{
 "cells": [
  {
   "cell_type": "markdown",
   "id": "b547b502-a776-4747-9450-948b14e07668",
   "metadata": {},
   "source": [
    "# simple lin reg in python"
   ]
  },
  {
   "cell_type": "code",
   "execution_count": 3,
   "id": "d959b9d9-e94e-4eac-b583-397774d74554",
   "metadata": {},
   "outputs": [],
   "source": [
    "import numpy as np\n",
    "import pandas as pd\n",
    "import matplotlib.pyplot as plt\n",
    "import seaborn as sns"
   ]
  },
  {
   "cell_type": "code",
   "execution_count": 3,
   "id": "9b55477a-f6ce-4b7a-a6bb-8d4f4e00c91c",
   "metadata": {},
   "outputs": [],
   "source": [
    "df = pd.read_csv(\"Advertising.csv\")"
   ]
  },
  {
   "cell_type": "code",
   "execution_count": 1,
   "id": "3b498ccf-c055-4eba-aaa1-cb0b22f453db",
   "metadata": {},
   "outputs": [],
   "source": [
    "#df.head()"
   ]
  },
  {
   "cell_type": "code",
   "execution_count": 5,
   "id": "c97656b3-d974-486d-ad65-5d90640f8f8b",
   "metadata": {},
   "outputs": [],
   "source": [
    "# we can combine all three features into one as total spending"
   ]
  },
  {
   "cell_type": "code",
   "execution_count": 6,
   "id": "97dc7698-0856-4429-a7a4-20625b2f6103",
   "metadata": {},
   "outputs": [],
   "source": [
    "df[\"total_spend\"] = df[\"TV\"] + df[\"newspaper\"] + df[\"radio\"]"
   ]
  },
  {
   "cell_type": "code",
   "execution_count": 7,
   "id": "8e7bca6d-d9f0-43f7-828b-73d7b720ac42",
   "metadata": {},
   "outputs": [
    {
     "data": {
      "text/html": [
       "<div>\n",
       "<style scoped>\n",
       "    .dataframe tbody tr th:only-of-type {\n",
       "        vertical-align: middle;\n",
       "    }\n",
       "\n",
       "    .dataframe tbody tr th {\n",
       "        vertical-align: top;\n",
       "    }\n",
       "\n",
       "    .dataframe thead th {\n",
       "        text-align: right;\n",
       "    }\n",
       "</style>\n",
       "<table border=\"1\" class=\"dataframe\">\n",
       "  <thead>\n",
       "    <tr style=\"text-align: right;\">\n",
       "      <th></th>\n",
       "      <th>Unnamed: 0</th>\n",
       "      <th>TV</th>\n",
       "      <th>radio</th>\n",
       "      <th>newspaper</th>\n",
       "      <th>sales</th>\n",
       "      <th>total_spend</th>\n",
       "    </tr>\n",
       "  </thead>\n",
       "  <tbody>\n",
       "    <tr>\n",
       "      <th>0</th>\n",
       "      <td>1</td>\n",
       "      <td>230.1</td>\n",
       "      <td>37.8</td>\n",
       "      <td>69.2</td>\n",
       "      <td>22.1</td>\n",
       "      <td>337.1</td>\n",
       "    </tr>\n",
       "    <tr>\n",
       "      <th>1</th>\n",
       "      <td>2</td>\n",
       "      <td>44.5</td>\n",
       "      <td>39.3</td>\n",
       "      <td>45.1</td>\n",
       "      <td>10.4</td>\n",
       "      <td>128.9</td>\n",
       "    </tr>\n",
       "    <tr>\n",
       "      <th>2</th>\n",
       "      <td>3</td>\n",
       "      <td>17.2</td>\n",
       "      <td>45.9</td>\n",
       "      <td>69.3</td>\n",
       "      <td>9.3</td>\n",
       "      <td>132.4</td>\n",
       "    </tr>\n",
       "    <tr>\n",
       "      <th>3</th>\n",
       "      <td>4</td>\n",
       "      <td>151.5</td>\n",
       "      <td>41.3</td>\n",
       "      <td>58.5</td>\n",
       "      <td>18.5</td>\n",
       "      <td>251.3</td>\n",
       "    </tr>\n",
       "    <tr>\n",
       "      <th>4</th>\n",
       "      <td>5</td>\n",
       "      <td>180.8</td>\n",
       "      <td>10.8</td>\n",
       "      <td>58.4</td>\n",
       "      <td>12.9</td>\n",
       "      <td>250.0</td>\n",
       "    </tr>\n",
       "  </tbody>\n",
       "</table>\n",
       "</div>"
      ],
      "text/plain": [
       "   Unnamed: 0     TV  radio  newspaper  sales  total_spend\n",
       "0           1  230.1   37.8       69.2   22.1        337.1\n",
       "1           2   44.5   39.3       45.1   10.4        128.9\n",
       "2           3   17.2   45.9       69.3    9.3        132.4\n",
       "3           4  151.5   41.3       58.5   18.5        251.3\n",
       "4           5  180.8   10.8       58.4   12.9        250.0"
      ]
     },
     "execution_count": 7,
     "metadata": {},
     "output_type": "execute_result"
    }
   ],
   "source": [
    "df.head()"
   ]
  },
  {
   "cell_type": "code",
   "execution_count": 8,
   "id": "b267a623-dd43-4733-ba94-3d67fd70889d",
   "metadata": {},
   "outputs": [],
   "source": [
    "df.drop('Unnamed: 0', axis=1, inplace=True)"
   ]
  },
  {
   "cell_type": "code",
   "execution_count": 9,
   "id": "178c4649-6829-4829-bc49-24e70dab16bb",
   "metadata": {},
   "outputs": [],
   "source": [
    "# lets see if they have linear relationship"
   ]
  },
  {
   "cell_type": "code",
   "execution_count": 10,
   "id": "b698d3de-d86b-4207-8bd4-77b584cc9bd1",
   "metadata": {},
   "outputs": [
    {
     "data": {
      "text/plain": [
       "<Axes: xlabel='total_spend', ylabel='sales'>"
      ]
     },
     "execution_count": 10,
     "metadata": {},
     "output_type": "execute_result"
    },
    {
     "data": {
      "image/png": "[encoded data removed]",
      "text/plain": [
       "<Figure size 640x480 with 1 Axes>"
      ]
     },
     "metadata": {},
     "output_type": "display_data"
    }
   ],
   "source": [
    "sns.scatterplot(data=df, x=\"total_spend\", y=\"sales\")"
   ]
  },
  {
   "cell_type": "code",
   "execution_count": 11,
   "id": "d43a33a0-0d1c-4f93-8742-e00049b2a09f",
   "metadata": {},
   "outputs": [],
   "source": [
    "# seaborn already has best fit line with ordinary least squares"
   ]
  },
  {
   "cell_type": "code",
   "execution_count": 12,
   "id": "293a3fe5-e3eb-4051-b2c5-2ff767608728",
   "metadata": {},
   "outputs": [
    {
     "data": {
      "text/plain": [
       "<Axes: xlabel='total_spend', ylabel='sales'>"
      ]
     },
     "execution_count": 12,
     "metadata": {},
     "output_type": "execute_result"
    },
    {
     "data": {
      "image/png": "[encoded data removed]",
      "text/plain": [
       "<Figure size 640x480 with 1 Axes>"
      ]
     },
     "metadata": {},
     "output_type": "display_data"
    }
   ],
   "source": [
    "sns.regplot(data=df, x=\"total_spend\", y=\"sales\")"
   ]
  },
  {
   "cell_type": "code",
   "execution_count": 13,
   "id": "69bb3abd-2258-4e30-be93-623d5159048c",
   "metadata": {},
   "outputs": [],
   "source": [
    "X = df[\"total_spend\"]\n",
    "y = df[\"sales\"]"
   ]
  },
  {
   "cell_type": "code",
   "execution_count": 14,
   "id": "0144c1fb-5b4c-411a-9425-200adfb7dde7",
   "metadata": {},
   "outputs": [],
   "source": [
    "# we want to fit a line to this data using least squares\n",
    "# y = mx +b\n",
    "# here y = b1x + b0"
   ]
  },
  {
   "cell_type": "code",
   "execution_count": 15,
   "id": "34264693-1822-43bc-9294-db320431c54a",
   "metadata": {},
   "outputs": [
    {
     "name": "stdout",
     "output_type": "stream",
     "text": [
      "Help on function polyfit in module numpy:\n",
      "\n",
      "polyfit(x, y, deg, rcond=None, full=False, w=None, cov=False)\n",
      "    Least squares polynomial fit.\n",
      "    \n",
      "    .. note::\n",
      "       This forms part of the old polynomial API. Since version 1.4, the\n",
      "       new polynomial API defined in `numpy.polynomial` is preferred.\n",
      "       A summary of the differences can be found in the\n",
      "       :doc:`transition guide </reference/routines.polynomials>`.\n",
      "    \n",
      "    Fit a polynomial ``p(x) = p[0] * x**deg + ... + p[deg]`` of degree `deg`\n",
      "    to points `(x, y)`. Returns a vector of coefficients `p` that minimises\n",
      "    the squared error in the order `deg`, `deg-1`, ... `0`.\n",
      "    \n",
      "    The `Polynomial.fit <numpy.polynomial.polynomial.Polynomial.fit>` class\n",
      "    method is recommended for new code as it is more stable numerically. See\n",
      "    the documentation of the method for more information.\n",
      "    \n",
      "    Parameters\n",
      "    ----------\n",
      "    x : array_like, shape (M,)\n",
      "        x-coordinates of the M sample points ``(x[i], y[i])``.\n",
      "    y : array_like, shape (M,) or (M, K)\n",
      "        y-coordinates of the sample points. Several data sets of sample\n",
      "        points sharing the same x-coordinates can be fitted at once by\n",
      "        passing in a 2D-array that contains one dataset per column.\n",
      "    deg : int\n",
      "        Degree of the fitting polynomial\n",
      "    rcond : float, optional\n",
      "        Relative condition number of the fit. Singular values smaller than\n",
      "        this relative to the largest singular value will be ignored. The\n",
      "        default value is len(x)*eps, where eps is the relative precision of\n",
      "        the float type, about 2e-16 in most cases.\n",
      "    full : bool, optional\n",
      "        Switch determining nature of return value. When it is False (the\n",
      "        default) just the coefficients are returned, when True diagnostic\n",
      "        information from the singular value decomposition is also returned.\n",
      "    w : array_like, shape (M,), optional\n",
      "        Weights. If not None, the weight ``w[i]`` applies to the unsquared\n",
      "        residual ``y[i] - y_hat[i]`` at ``x[i]``. Ideally the weights are\n",
      "        chosen so that the errors of the products ``w[i]*y[i]`` all have the\n",
      "        same variance.  When using inverse-variance weighting, use\n",
      "        ``w[i] = 1/sigma(y[i])``.  The default value is None.\n",
      "    cov : bool or str, optional\n",
      "        If given and not `False`, return not just the estimate but also its\n",
      "        covariance matrix. By default, the covariance are scaled by\n",
      "        chi2/dof, where dof = M - (deg + 1), i.e., the weights are presumed\n",
      "        to be unreliable except in a relative sense and everything is scaled\n",
      "        such that the reduced chi2 is unity. This scaling is omitted if\n",
      "        ``cov='unscaled'``, as is relevant for the case that the weights are\n",
      "        w = 1/sigma, with sigma known to be a reliable estimate of the\n",
      "        uncertainty.\n",
      "    \n",
      "    Returns\n",
      "    -------\n",
      "    p : ndarray, shape (deg + 1,) or (deg + 1, K)\n",
      "        Polynomial coefficients, highest power first.  If `y` was 2-D, the\n",
      "        coefficients for `k`-th data set are in ``p[:,k]``.\n",
      "    \n",
      "    residuals, rank, singular_values, rcond\n",
      "        These values are only returned if ``full == True``\n",
      "    \n",
      "        - residuals -- sum of squared residuals of the least squares fit\n",
      "        - rank -- the effective rank of the scaled Vandermonde\n",
      "           coefficient matrix\n",
      "        - singular_values -- singular values of the scaled Vandermonde\n",
      "           coefficient matrix\n",
      "        - rcond -- value of `rcond`.\n",
      "    \n",
      "        For more details, see `numpy.linalg.lstsq`.\n",
      "    \n",
      "    V : ndarray, shape (M,M) or (M,M,K)\n",
      "        Present only if ``full == False`` and ``cov == True``.  The covariance\n",
      "        matrix of the polynomial coefficient estimates.  The diagonal of\n",
      "        this matrix are the variance estimates for each coefficient.  If y\n",
      "        is a 2-D array, then the covariance matrix for the `k`-th data set\n",
      "        are in ``V[:,:,k]``\n",
      "    \n",
      "    \n",
      "    Warns\n",
      "    -----\n",
      "    RankWarning\n",
      "        The rank of the coefficient matrix in the least-squares fit is\n",
      "        deficient. The warning is only raised if ``full == False``.\n",
      "    \n",
      "        The warnings can be turned off by\n",
      "    \n",
      "        >>> import warnings\n",
      "        >>> warnings.simplefilter('ignore', np.RankWarning)\n",
      "    \n",
      "    See Also\n",
      "    --------\n",
      "    polyval : Compute polynomial values.\n",
      "    linalg.lstsq : Computes a least-squares fit.\n",
      "    scipy.interpolate.UnivariateSpline : Computes spline fits.\n",
      "    \n",
      "    Notes\n",
      "    -----\n",
      "    The solution minimizes the squared error\n",
      "    \n",
      "    .. math::\n",
      "        E = \\sum_{j=0}^k |p(x_j) - y_j|^2\n",
      "    \n",
      "    in the equations::\n",
      "    \n",
      "        x[0]**n * p[0] + ... + x[0] * p[n-1] + p[n] = y[0]\n",
      "        x[1]**n * p[0] + ... + x[1] * p[n-1] + p[n] = y[1]\n",
      "        ...\n",
      "        x[k]**n * p[0] + ... + x[k] * p[n-1] + p[n] = y[k]\n",
      "    \n",
      "    The coefficient matrix of the coefficients `p` is a Vandermonde matrix.\n",
      "    \n",
      "    `polyfit` issues a `RankWarning` when the least-squares fit is badly\n",
      "    conditioned. This implies that the best fit is not well-defined due\n",
      "    to numerical error. The results may be improved by lowering the polynomial\n",
      "    degree or by replacing `x` by `x` - `x`.mean(). The `rcond` parameter\n",
      "    can also be set to a value smaller than its default, but the resulting\n",
      "    fit may be spurious: including contributions from the small singular\n",
      "    values can add numerical noise to the result.\n",
      "    \n",
      "    Note that fitting polynomial coefficients is inherently badly conditioned\n",
      "    when the degree of the polynomial is large or the interval of sample points\n",
      "    is badly centered. The quality of the fit should always be checked in these\n",
      "    cases. When polynomial fits are not satisfactory, splines may be a good\n",
      "    alternative.\n",
      "    \n",
      "    References\n",
      "    ----------\n",
      "    .. [1] Wikipedia, \"Curve fitting\",\n",
      "           https://en.wikipedia.org/wiki/Curve_fitting\n",
      "    .. [2] Wikipedia, \"Polynomial interpolation\",\n",
      "           https://en.wikipedia.org/wiki/Polynomial_interpolation\n",
      "    \n",
      "    Examples\n",
      "    --------\n",
      "    >>> import warnings\n",
      "    >>> x = np.array([0.0, 1.0, 2.0, 3.0,  4.0,  5.0])\n",
      "    >>> y = np.array([0.0, 0.8, 0.9, 0.1, -0.8, -1.0])\n",
      "    >>> z = np.polyfit(x, y, 3)\n",
      "    >>> z\n",
      "    array([ 0.08703704, -0.81349206,  1.69312169, -0.03968254]) # may vary\n",
      "    \n",
      "    It is convenient to use `poly1d` objects for dealing with polynomials:\n",
      "    \n",
      "    >>> p = np.poly1d(z)\n",
      "    >>> p(0.5)\n",
      "    0.6143849206349179 # may vary\n",
      "    >>> p(3.5)\n",
      "    -0.34732142857143039 # may vary\n",
      "    >>> p(10)\n",
      "    22.579365079365115 # may vary\n",
      "    \n",
      "    High-order polynomials may oscillate wildly:\n",
      "    \n",
      "    >>> with warnings.catch_warnings():\n",
      "    ...     warnings.simplefilter('ignore', np.RankWarning)\n",
      "    ...     p30 = np.poly1d(np.polyfit(x, y, 30))\n",
      "    ...\n",
      "    >>> p30(4)\n",
      "    -0.80000000000000204 # may vary\n",
      "    >>> p30(5)\n",
      "    -0.99999999999999445 # may vary\n",
      "    >>> p30(4.5)\n",
      "    -0.10547061179440398 # may vary\n",
      "    \n",
      "    Illustration:\n",
      "    \n",
      "    >>> import matplotlib.pyplot as plt\n",
      "    >>> xp = np.linspace(-2, 6, 100)\n",
      "    >>> _ = plt.plot(x, y, '.', xp, p(xp), '-', xp, p30(xp), '--')\n",
      "    >>> plt.ylim(-2,2)\n",
      "    (-2, 2)\n",
      "    >>> plt.show()\n",
      "\n"
     ]
    }
   ],
   "source": [
    "help(np.polyfit)"
   ]
  },
  {
   "cell_type": "code",
   "execution_count": 16,
   "id": "07d611ad-51e2-4e80-9870-e62166d2c527",
   "metadata": {},
   "outputs": [],
   "source": [
    "# this actually can do polynomial reg, but we only want lin , so specify degree as 1"
   ]
  },
  {
   "cell_type": "code",
   "execution_count": 17,
   "id": "58b3f41d-92fb-4510-a210-94cd715891a5",
   "metadata": {},
   "outputs": [
    {
     "data": {
      "text/plain": [
       "array([0.04868788, 4.24302822])"
      ]
     },
     "execution_count": 17,
     "metadata": {},
     "output_type": "execute_result"
    }
   ],
   "source": [
    "np.polyfit(X,y,deg=1)"
   ]
  },
  {
   "cell_type": "code",
   "execution_count": 18,
   "id": "00321630-ffbb-4ffa-942e-095e61ed3dd9",
   "metadata": {},
   "outputs": [],
   "source": [
    "# these are the b1 and b0 values\n",
    "# hence we can predict\n",
    "\n",
    "# now lets take some values on the line and predict "
   ]
  },
  {
   "cell_type": "code",
   "execution_count": 19,
   "id": "ddeaacbd-950f-49e3-bfaf-79cc6777511e",
   "metadata": {},
   "outputs": [],
   "source": [
    "potential_spend = np.linspace(0,500,100)  # 100 values in btw 0 and 500"
   ]
  },
  {
   "cell_type": "code",
   "execution_count": 20,
   "id": "5c85d981-6c43-4729-ba17-2de95bdb9122",
   "metadata": {},
   "outputs": [],
   "source": [
    "potential_sales = 0.04868788*potential_spend + 4.24302822"
   ]
  },
  {
   "cell_type": "code",
   "execution_count": 21,
   "id": "716b2bec-3720-4786-96a7-1fa26da45ddd",
   "metadata": {},
   "outputs": [
    {
     "data": {
      "text/plain": [
       "[<matplotlib.lines.Line2D at 0x24989c1fa10>]"
      ]
     },
     "execution_count": 21,
     "metadata": {},
     "output_type": "execute_result"
    },
    {
     "data": {
      "image/png": "[encoded data removed]",
      "text/plain": [
       "<Figure size 640x480 with 1 Axes>"
      ]
     },
     "metadata": {},
     "output_type": "display_data"
    }
   ],
   "source": [
    "plt.plot(potential_spend, potential_sales)"
   ]
  },
  {
   "cell_type": "code",
   "execution_count": 22,
   "id": "e6da4227-e772-4fb3-b2be-e1e81db144dc",
   "metadata": {},
   "outputs": [
    {
     "data": {
      "text/plain": [
       "[<matplotlib.lines.Line2D at 0x2498e55ac50>]"
      ]
     },
     "execution_count": 22,
     "metadata": {},
     "output_type": "execute_result"
    },
    {
     "data": {
      "image/png": "[encoded data removed]",
      "text/plain": [
       "<Figure size 640x480 with 1 Axes>"
      ]
     },
     "metadata": {},
     "output_type": "display_data"
    }
   ],
   "source": [
    "sns.scatterplot(x=\"total_spend\", y=\"sales\", data=df)\n",
    "plt.plot(potential_spend, potential_sales, color=\"red\")\n"
   ]
  },
  {
   "cell_type": "code",
   "execution_count": 23,
   "id": "174a582f-f500-4997-a222-236d18fcac68",
   "metadata": {},
   "outputs": [],
   "source": [
    "# this is exactly same as what seaborn did"
   ]
  },
  {
   "cell_type": "code",
   "execution_count": 24,
   "id": "7fd013d2-38ac-40bb-a6df-1a120742eb24",
   "metadata": {},
   "outputs": [
    {
     "data": {
      "text/plain": [
       "13.98060422"
      ]
     },
     "execution_count": 24,
     "metadata": {},
     "output_type": "execute_result"
    }
   ],
   "source": [
    "# if spend is 200 lets see what it line suggests\n",
    "spend=200\n",
    "\n",
    "potential_sale = 0.04868788*spend + 4.24302822\n",
    "\n",
    "potential_sale"
   ]
  },
  {
   "cell_type": "markdown",
   "id": "c32594e1-09bb-434e-9c16-d2572369696b",
   "metadata": {},
   "source": [
    "## lets see if we can do for polynomial reg, we just have to pass deg=3"
   ]
  },
  {
   "cell_type": "code",
   "execution_count": 25,
   "id": "4d0b14d5-f13e-47a6-9a4e-82dac652e664",
   "metadata": {},
   "outputs": [
    {
     "data": {
      "text/plain": [
       "array([ 3.07615033e-07, -1.89392449e-04,  8.20886302e-02,  2.70495053e+00])"
      ]
     },
     "execution_count": 25,
     "metadata": {},
     "output_type": "execute_result"
    }
   ],
   "source": [
    "np.polyfit(X,y,deg=3)"
   ]
  },
  {
   "cell_type": "code",
   "execution_count": 26,
   "id": "865d4afd-750c-4c4a-a8a4-feb0cc6c3d6e",
   "metadata": {},
   "outputs": [],
   "source": [
    "# it gave 4 values bcuz it fit a 3rd degree polynomial\n",
    "# y = b3x**3 + b2x**2 + b1x + b0\n",
    "\n",
    "# we can fit a lin better "
   ]
  },
  {
   "cell_type": "code",
   "execution_count": 27,
   "id": "688eb803-3a55-41a9-b75a-d40a093c84a6",
   "metadata": {},
   "outputs": [],
   "source": [
    "# to understand look at the coeff for x**3 and x**2 terms they are very very small"
   ]
  },
  {
   "cell_type": "code",
   "execution_count": 28,
   "id": "aae543ba-597f-4203-8720-be0ff2c13f1a",
   "metadata": {},
   "outputs": [],
   "source": [
    "pot_spend = np.linspace(0,500,100)"
   ]
  },
  {
   "cell_type": "code",
   "execution_count": 29,
   "id": "25d6c007-ee70-48dd-a1cd-a87612b821db",
   "metadata": {},
   "outputs": [],
   "source": [
    "pred_sales = 3.07615033e-07*(pot_spend)**3 + (-1.89392449e-04)*(pot_spend)**2 + 8.20886302e-02*pot_spend + 2.70495053e+00"
   ]
  },
  {
   "cell_type": "code",
   "execution_count": 30,
   "id": "3eff7491-9430-41e5-af7b-438fe5e06cf9",
   "metadata": {},
   "outputs": [
    {
     "data": {
      "text/plain": [
       "[<matplotlib.lines.Line2D at 0x2498e5ea250>]"
      ]
     },
     "execution_count": 30,
     "metadata": {},
     "output_type": "execute_result"
    },
    {
     "data": {
      "image/png": "[encoded data removed]",
      "text/plain": [
       "<Figure size 640x480 with 1 Axes>"
      ]
     },
     "metadata": {},
     "output_type": "display_data"
    }
   ],
   "source": [
    "sns.scatterplot(x=\"total_spend\", y=\"sales\", data=df)\n",
    "plt.plot(pot_spend, pred_sales, color=\"red\")\n"
   ]
  },
  {
   "cell_type": "markdown",
   "id": "a0fea351-4bed-4a39-a09e-95ee9d86cc82",
   "metadata": {},
   "source": [
    "## how do we know which fit is better, lin or poly (3 deg here)?"
   ]
  },
  {
   "cell_type": "markdown",
   "id": "82830c51-1462-474d-b64a-bfdc0125ff95",
   "metadata": {},
   "source": [
    "# Remember still we are only dealing with one feature in all of this"
   ]
  },
  {
   "cell_type": "code",
   "execution_count": 31,
   "id": "7c1a7e5f-cd92-4477-bfb1-6a191c224a1e",
   "metadata": {},
   "outputs": [],
   "source": [
    "## to deal with multi feat you need grad descent ,etc"
   ]
  },
  {
   "cell_type": "markdown",
   "id": "d33bc4ee-7add-4d96-aa32-9fd979d88969",
   "metadata": {},
   "source": [
    "# scikit learn"
   ]
  },
  {
   "cell_type": "markdown",
   "id": "9dc1e78b-5a4d-43a1-a5ed-983407e40c34",
   "metadata": {},
   "source": [
    "## train test split"
   ]
  },
  {
   "cell_type": "code",
   "execution_count": 32,
   "id": "7f4d49d6-115a-49b2-9ae2-590e1e4aaecf",
   "metadata": {},
   "outputs": [],
   "source": [
    "from sklearn.model_selection import train_test_split"
   ]
  },
  {
   "cell_type": "code",
   "execution_count": 33,
   "id": "837f34b9-19b1-4c06-a960-4e3547256663",
   "metadata": {},
   "outputs": [],
   "source": [
    "X_train, X_test, y_train, y_test = train_test_split(X,y)   # this is just tuple unpacking"
   ]
  },
  {
   "cell_type": "markdown",
   "id": "015d1280-d715-406e-a9a6-012ec28cfbd7",
   "metadata": {},
   "source": [
    "## implementing it in scikit learn, with multi features"
   ]
  },
  {
   "cell_type": "code",
   "execution_count": 42,
   "id": "3d4050a9-bbd4-465e-8e42-d77dc97ff947",
   "metadata": {},
   "outputs": [],
   "source": [
    "del df[\"total_spend\"]"
   ]
  },
  {
   "cell_type": "code",
   "execution_count": 43,
   "id": "ddbfdf6b-e117-48f2-8887-0c7f31c689e5",
   "metadata": {},
   "outputs": [
    {
     "data": {
      "text/html": [
       "<div>\n",
       "<style scoped>\n",
       "    .dataframe tbody tr th:only-of-type {\n",
       "        vertical-align: middle;\n",
       "    }\n",
       "\n",
       "    .dataframe tbody tr th {\n",
       "        vertical-align: top;\n",
       "    }\n",
       "\n",
       "    .dataframe thead th {\n",
       "        text-align: right;\n",
       "    }\n",
       "</style>\n",
       "<table border=\"1\" class=\"dataframe\">\n",
       "  <thead>\n",
       "    <tr style=\"text-align: right;\">\n",
       "      <th></th>\n",
       "      <th>TV</th>\n",
       "      <th>radio</th>\n",
       "      <th>newspaper</th>\n",
       "      <th>sales</th>\n",
       "    </tr>\n",
       "  </thead>\n",
       "  <tbody>\n",
       "    <tr>\n",
       "      <th>0</th>\n",
       "      <td>230.1</td>\n",
       "      <td>37.8</td>\n",
       "      <td>69.2</td>\n",
       "      <td>22.1</td>\n",
       "    </tr>\n",
       "    <tr>\n",
       "      <th>1</th>\n",
       "      <td>44.5</td>\n",
       "      <td>39.3</td>\n",
       "      <td>45.1</td>\n",
       "      <td>10.4</td>\n",
       "    </tr>\n",
       "    <tr>\n",
       "      <th>2</th>\n",
       "      <td>17.2</td>\n",
       "      <td>45.9</td>\n",
       "      <td>69.3</td>\n",
       "      <td>9.3</td>\n",
       "    </tr>\n",
       "    <tr>\n",
       "      <th>3</th>\n",
       "      <td>151.5</td>\n",
       "      <td>41.3</td>\n",
       "      <td>58.5</td>\n",
       "      <td>18.5</td>\n",
       "    </tr>\n",
       "    <tr>\n",
       "      <th>4</th>\n",
       "      <td>180.8</td>\n",
       "      <td>10.8</td>\n",
       "      <td>58.4</td>\n",
       "      <td>12.9</td>\n",
       "    </tr>\n",
       "    <tr>\n",
       "      <th>...</th>\n",
       "      <td>...</td>\n",
       "      <td>...</td>\n",
       "      <td>...</td>\n",
       "      <td>...</td>\n",
       "    </tr>\n",
       "    <tr>\n",
       "      <th>195</th>\n",
       "      <td>38.2</td>\n",
       "      <td>3.7</td>\n",
       "      <td>13.8</td>\n",
       "      <td>7.6</td>\n",
       "    </tr>\n",
       "    <tr>\n",
       "      <th>196</th>\n",
       "      <td>94.2</td>\n",
       "      <td>4.9</td>\n",
       "      <td>8.1</td>\n",
       "      <td>9.7</td>\n",
       "    </tr>\n",
       "    <tr>\n",
       "      <th>197</th>\n",
       "      <td>177.0</td>\n",
       "      <td>9.3</td>\n",
       "      <td>6.4</td>\n",
       "      <td>12.8</td>\n",
       "    </tr>\n",
       "    <tr>\n",
       "      <th>198</th>\n",
       "      <td>283.6</td>\n",
       "      <td>42.0</td>\n",
       "      <td>66.2</td>\n",
       "      <td>25.5</td>\n",
       "    </tr>\n",
       "    <tr>\n",
       "      <th>199</th>\n",
       "      <td>232.1</td>\n",
       "      <td>8.6</td>\n",
       "      <td>8.7</td>\n",
       "      <td>13.4</td>\n",
       "    </tr>\n",
       "  </tbody>\n",
       "</table>\n",
       "<p>200 rows × 4 columns</p>\n",
       "</div>"
      ],
      "text/plain": [
       "        TV  radio  newspaper  sales\n",
       "0    230.1   37.8       69.2   22.1\n",
       "1     44.5   39.3       45.1   10.4\n",
       "2     17.2   45.9       69.3    9.3\n",
       "3    151.5   41.3       58.5   18.5\n",
       "4    180.8   10.8       58.4   12.9\n",
       "..     ...    ...        ...    ...\n",
       "195   38.2    3.7       13.8    7.6\n",
       "196   94.2    4.9        8.1    9.7\n",
       "197  177.0    9.3        6.4   12.8\n",
       "198  283.6   42.0       66.2   25.5\n",
       "199  232.1    8.6        8.7   13.4\n",
       "\n",
       "[200 rows x 4 columns]"
      ]
     },
     "execution_count": 43,
     "metadata": {},
     "output_type": "execute_result"
    }
   ],
   "source": [
    "df"
   ]
  },
  {
   "cell_type": "code",
   "execution_count": 44,
   "id": "5c61a65b-06b9-4e6f-89be-432c069501d5",
   "metadata": {},
   "outputs": [],
   "source": [
    "# create subplots for each of feature with the sales to see if there is lin correlation between them, not doing it here, but its a good practice to \n",
    "# it before and knowing our data "
   ]
  },
  {
   "cell_type": "code",
   "execution_count": 45,
   "id": "4f828f68-ae30-4e73-b088-9aece9eb35eb",
   "metadata": {},
   "outputs": [],
   "source": [
    "# instead of using matplotlib, seaborn has something in built with gives much more information too\n"
   ]
  },
  {
   "cell_type": "code",
   "execution_count": 46,
   "id": "1ed3ffc9-9ede-4403-89cc-23800d3738c0",
   "metadata": {},
   "outputs": [
    {
     "data": {
      "text/plain": [
       "<seaborn.axisgrid.PairGrid at 0x2499147f710>"
      ]
     },
     "execution_count": 46,
     "metadata": {},
     "output_type": "execute_result"
    },
    {
     "data": {
      "image/png": "[encoded data removed]",
      "text/plain": [
       "<Figure size 1000x1000 with 20 Axes>"
      ]
     },
     "metadata": {},
     "output_type": "display_data"
    }
   ],
   "source": [
    "sns.pairplot(df)"
   ]
  },
  {
   "cell_type": "code",
   "execution_count": 47,
   "id": "ae23f5ae-f1f9-49b0-a0c0-a5f52f86baf6",
   "metadata": {},
   "outputs": [],
   "source": [
    "# this will be much more useful in polynomial reg cases"
   ]
  },
  {
   "cell_type": "code",
   "execution_count": 48,
   "id": "c6879c7a-9dbb-4007-8110-e1c0edd3309b",
   "metadata": {},
   "outputs": [],
   "source": [
    "X = df.drop(\"sales\", axis=1)"
   ]
  },
  {
   "cell_type": "code",
   "execution_count": 49,
   "id": "1eecc9f5-f8d7-4976-879a-154adfa3bd86",
   "metadata": {},
   "outputs": [
    {
     "data": {
      "text/html": [
       "<div>\n",
       "<style scoped>\n",
       "    .dataframe tbody tr th:only-of-type {\n",
       "        vertical-align: middle;\n",
       "    }\n",
       "\n",
       "    .dataframe tbody tr th {\n",
       "        vertical-align: top;\n",
       "    }\n",
       "\n",
       "    .dataframe thead th {\n",
       "        text-align: right;\n",
       "    }\n",
       "</style>\n",
       "<table border=\"1\" class=\"dataframe\">\n",
       "  <thead>\n",
       "    <tr style=\"text-align: right;\">\n",
       "      <th></th>\n",
       "      <th>TV</th>\n",
       "      <th>radio</th>\n",
       "      <th>newspaper</th>\n",
       "    </tr>\n",
       "  </thead>\n",
       "  <tbody>\n",
       "    <tr>\n",
       "      <th>0</th>\n",
       "      <td>230.1</td>\n",
       "      <td>37.8</td>\n",
       "      <td>69.2</td>\n",
       "    </tr>\n",
       "    <tr>\n",
       "      <th>1</th>\n",
       "      <td>44.5</td>\n",
       "      <td>39.3</td>\n",
       "      <td>45.1</td>\n",
       "    </tr>\n",
       "    <tr>\n",
       "      <th>2</th>\n",
       "      <td>17.2</td>\n",
       "      <td>45.9</td>\n",
       "      <td>69.3</td>\n",
       "    </tr>\n",
       "    <tr>\n",
       "      <th>3</th>\n",
       "      <td>151.5</td>\n",
       "      <td>41.3</td>\n",
       "      <td>58.5</td>\n",
       "    </tr>\n",
       "    <tr>\n",
       "      <th>4</th>\n",
       "      <td>180.8</td>\n",
       "      <td>10.8</td>\n",
       "      <td>58.4</td>\n",
       "    </tr>\n",
       "    <tr>\n",
       "      <th>...</th>\n",
       "      <td>...</td>\n",
       "      <td>...</td>\n",
       "      <td>...</td>\n",
       "    </tr>\n",
       "    <tr>\n",
       "      <th>195</th>\n",
       "      <td>38.2</td>\n",
       "      <td>3.7</td>\n",
       "      <td>13.8</td>\n",
       "    </tr>\n",
       "    <tr>\n",
       "      <th>196</th>\n",
       "      <td>94.2</td>\n",
       "      <td>4.9</td>\n",
       "      <td>8.1</td>\n",
       "    </tr>\n",
       "    <tr>\n",
       "      <th>197</th>\n",
       "      <td>177.0</td>\n",
       "      <td>9.3</td>\n",
       "      <td>6.4</td>\n",
       "    </tr>\n",
       "    <tr>\n",
       "      <th>198</th>\n",
       "      <td>283.6</td>\n",
       "      <td>42.0</td>\n",
       "      <td>66.2</td>\n",
       "    </tr>\n",
       "    <tr>\n",
       "      <th>199</th>\n",
       "      <td>232.1</td>\n",
       "      <td>8.6</td>\n",
       "      <td>8.7</td>\n",
       "    </tr>\n",
       "  </tbody>\n",
       "</table>\n",
       "<p>200 rows × 3 columns</p>\n",
       "</div>"
      ],
      "text/plain": [
       "        TV  radio  newspaper\n",
       "0    230.1   37.8       69.2\n",
       "1     44.5   39.3       45.1\n",
       "2     17.2   45.9       69.3\n",
       "3    151.5   41.3       58.5\n",
       "4    180.8   10.8       58.4\n",
       "..     ...    ...        ...\n",
       "195   38.2    3.7       13.8\n",
       "196   94.2    4.9        8.1\n",
       "197  177.0    9.3        6.4\n",
       "198  283.6   42.0       66.2\n",
       "199  232.1    8.6        8.7\n",
       "\n",
       "[200 rows x 3 columns]"
      ]
     },
     "execution_count": 49,
     "metadata": {},
     "output_type": "execute_result"
    }
   ],
   "source": [
    "X"
   ]
  },
  {
   "cell_type": "code",
   "execution_count": 51,
   "id": "58d1931b-2001-4719-b4b7-d2255114760e",
   "metadata": {},
   "outputs": [
    {
     "data": {
      "text/plain": [
       "0      22.1\n",
       "1      10.4\n",
       "2       9.3\n",
       "3      18.5\n",
       "4      12.9\n",
       "       ... \n",
       "195     7.6\n",
       "196     9.7\n",
       "197    12.8\n",
       "198    25.5\n",
       "199    13.4\n",
       "Name: sales, Length: 200, dtype: float64"
      ]
     },
     "execution_count": 51,
     "metadata": {},
     "output_type": "execute_result"
    }
   ],
   "source": [
    "y = df[\"sales\"]\n",
    "y"
   ]
  },
  {
   "cell_type": "code",
   "execution_count": 52,
   "id": "23c1b67e-5c22-41f3-ac8f-9e9ca6e5ee08",
   "metadata": {},
   "outputs": [],
   "source": [
    "from sklearn.model_selection import train_test_split"
   ]
  },
  {
   "cell_type": "code",
   "execution_count": 53,
   "id": "83e2394b-1154-4e39-9dd6-290c903bcb06",
   "metadata": {},
   "outputs": [
    {
     "name": "stdout",
     "output_type": "stream",
     "text": [
      "Help on function train_test_split in module sklearn.model_selection._split:\n",
      "\n",
      "train_test_split(*arrays, test_size=None, train_size=None, random_state=None, shuffle=True, stratify=None)\n",
      "    Split arrays or matrices into random train and test subsets.\n",
      "    \n",
      "    Quick utility that wraps input validation,\n",
      "    ``next(ShuffleSplit().split(X, y))``, and application to input data\n",
      "    into a single call for splitting (and optionally subsampling) data into a\n",
      "    one-liner.\n",
      "    \n",
      "    Read more in the :ref:`User Guide <cross_validation>`.\n",
      "    \n",
      "    Parameters\n",
      "    ----------\n",
      "    *arrays : sequence of indexables with same length / shape[0]\n",
      "        Allowed inputs are lists, numpy arrays, scipy-sparse\n",
      "        matrices or pandas dataframes.\n",
      "    \n",
      "    test_size : float or int, default=None\n",
      "        If float, should be between 0.0 and 1.0 and represent the proportion\n",
      "        of the dataset to include in the test split. If int, represents the\n",
      "        absolute number of test samples. If None, the value is set to the\n",
      "        complement of the train size. If ``train_size`` is also None, it will\n",
      "        be set to 0.25.\n",
      "    \n",
      "    train_size : float or int, default=None\n",
      "        If float, should be between 0.0 and 1.0 and represent the\n",
      "        proportion of the dataset to include in the train split. If\n",
      "        int, represents the absolute number of train samples. If None,\n",
      "        the value is automatically set to the complement of the test size.\n",
      "    \n",
      "    random_state : int, RandomState instance or None, default=None\n",
      "        Controls the shuffling applied to the data before applying the split.\n",
      "        Pass an int for reproducible output across multiple function calls.\n",
      "        See :term:`Glossary <random_state>`.\n",
      "    \n",
      "    shuffle : bool, default=True\n",
      "        Whether or not to shuffle the data before splitting. If shuffle=False\n",
      "        then stratify must be None.\n",
      "    \n",
      "    stratify : array-like, default=None\n",
      "        If not None, data is split in a stratified fashion, using this as\n",
      "        the class labels.\n",
      "        Read more in the :ref:`User Guide <stratification>`.\n",
      "    \n",
      "    Returns\n",
      "    -------\n",
      "    splitting : list, length=2 * len(arrays)\n",
      "        List containing train-test split of inputs.\n",
      "    \n",
      "        .. versionadded:: 0.16\n",
      "            If the input is sparse, the output will be a\n",
      "            ``scipy.sparse.csr_matrix``. Else, output type is the same as the\n",
      "            input type.\n",
      "    \n",
      "    Examples\n",
      "    --------\n",
      "    >>> import numpy as np\n",
      "    >>> from sklearn.model_selection import train_test_split\n",
      "    >>> X, y = np.arange(10).reshape((5, 2)), range(5)\n",
      "    >>> X\n",
      "    array([[0, 1],\n",
      "           [2, 3],\n",
      "           [4, 5],\n",
      "           [6, 7],\n",
      "           [8, 9]])\n",
      "    >>> list(y)\n",
      "    [0, 1, 2, 3, 4]\n",
      "    \n",
      "    >>> X_train, X_test, y_train, y_test = train_test_split(\n",
      "    ...     X, y, test_size=0.33, random_state=42)\n",
      "    ...\n",
      "    >>> X_train\n",
      "    array([[4, 5],\n",
      "           [0, 1],\n",
      "           [6, 7]])\n",
      "    >>> y_train\n",
      "    [2, 0, 3]\n",
      "    >>> X_test\n",
      "    array([[2, 3],\n",
      "           [8, 9]])\n",
      "    >>> y_test\n",
      "    [1, 4]\n",
      "    \n",
      "    >>> train_test_split(y, shuffle=False)\n",
      "    [[0, 1, 2], [3, 4]]\n",
      "\n"
     ]
    }
   ],
   "source": [
    "help(train_test_split)"
   ]
  },
  {
   "cell_type": "code",
   "execution_count": 54,
   "id": "9d610619-89ea-4628-b1f6-18f2e4580c7b",
   "metadata": {},
   "outputs": [],
   "source": [
    "# documentation also has an example too "
   ]
  },
  {
   "cell_type": "code",
   "execution_count": 55,
   "id": "0bc22f3a-9dd7-46b9-abdb-9192a5f1f047",
   "metadata": {},
   "outputs": [],
   "source": [
    "X_train, X_test, y_train, y_test = train_test_split(X, y, test_size=0.3, random_state=101)"
   ]
  },
  {
   "cell_type": "code",
   "execution_count": 56,
   "id": "42e528ba-b012-457f-838d-dfae3ffc0f0b",
   "metadata": {},
   "outputs": [
    {
     "data": {
      "text/plain": [
       "200"
      ]
     },
     "execution_count": 56,
     "metadata": {},
     "output_type": "execute_result"
    }
   ],
   "source": [
    "len(df)"
   ]
  },
  {
   "cell_type": "code",
   "execution_count": 58,
   "id": "fe51e06f-a847-4481-bf14-f4362be7ad9d",
   "metadata": {},
   "outputs": [
    {
     "data": {
      "text/html": [
       "<div>\n",
       "<style scoped>\n",
       "    .dataframe tbody tr th:only-of-type {\n",
       "        vertical-align: middle;\n",
       "    }\n",
       "\n",
       "    .dataframe tbody tr th {\n",
       "        vertical-align: top;\n",
       "    }\n",
       "\n",
       "    .dataframe thead th {\n",
       "        text-align: right;\n",
       "    }\n",
       "</style>\n",
       "<table border=\"1\" class=\"dataframe\">\n",
       "  <thead>\n",
       "    <tr style=\"text-align: right;\">\n",
       "      <th></th>\n",
       "      <th>TV</th>\n",
       "      <th>radio</th>\n",
       "      <th>newspaper</th>\n",
       "    </tr>\n",
       "  </thead>\n",
       "  <tbody>\n",
       "    <tr>\n",
       "      <th>85</th>\n",
       "      <td>193.2</td>\n",
       "      <td>18.4</td>\n",
       "      <td>65.7</td>\n",
       "    </tr>\n",
       "    <tr>\n",
       "      <th>183</th>\n",
       "      <td>287.6</td>\n",
       "      <td>43.0</td>\n",
       "      <td>71.8</td>\n",
       "    </tr>\n",
       "    <tr>\n",
       "      <th>127</th>\n",
       "      <td>80.2</td>\n",
       "      <td>0.0</td>\n",
       "      <td>9.2</td>\n",
       "    </tr>\n",
       "    <tr>\n",
       "      <th>53</th>\n",
       "      <td>182.6</td>\n",
       "      <td>46.2</td>\n",
       "      <td>58.7</td>\n",
       "    </tr>\n",
       "    <tr>\n",
       "      <th>100</th>\n",
       "      <td>222.4</td>\n",
       "      <td>4.3</td>\n",
       "      <td>49.8</td>\n",
       "    </tr>\n",
       "    <tr>\n",
       "      <th>...</th>\n",
       "      <td>...</td>\n",
       "      <td>...</td>\n",
       "      <td>...</td>\n",
       "    </tr>\n",
       "    <tr>\n",
       "      <th>63</th>\n",
       "      <td>102.7</td>\n",
       "      <td>29.6</td>\n",
       "      <td>8.4</td>\n",
       "    </tr>\n",
       "    <tr>\n",
       "      <th>70</th>\n",
       "      <td>199.1</td>\n",
       "      <td>30.6</td>\n",
       "      <td>38.7</td>\n",
       "    </tr>\n",
       "    <tr>\n",
       "      <th>81</th>\n",
       "      <td>239.8</td>\n",
       "      <td>4.1</td>\n",
       "      <td>36.9</td>\n",
       "    </tr>\n",
       "    <tr>\n",
       "      <th>11</th>\n",
       "      <td>214.7</td>\n",
       "      <td>24.0</td>\n",
       "      <td>4.0</td>\n",
       "    </tr>\n",
       "    <tr>\n",
       "      <th>95</th>\n",
       "      <td>163.3</td>\n",
       "      <td>31.6</td>\n",
       "      <td>52.9</td>\n",
       "    </tr>\n",
       "  </tbody>\n",
       "</table>\n",
       "<p>140 rows × 3 columns</p>\n",
       "</div>"
      ],
      "text/plain": [
       "        TV  radio  newspaper\n",
       "85   193.2   18.4       65.7\n",
       "183  287.6   43.0       71.8\n",
       "127   80.2    0.0        9.2\n",
       "53   182.6   46.2       58.7\n",
       "100  222.4    4.3       49.8\n",
       "..     ...    ...        ...\n",
       "63   102.7   29.6        8.4\n",
       "70   199.1   30.6       38.7\n",
       "81   239.8    4.1       36.9\n",
       "11   214.7   24.0        4.0\n",
       "95   163.3   31.6       52.9\n",
       "\n",
       "[140 rows x 3 columns]"
      ]
     },
     "execution_count": 58,
     "metadata": {},
     "output_type": "execute_result"
    }
   ],
   "source": [
    "X_train"
   ]
  },
  {
   "cell_type": "code",
   "execution_count": 61,
   "id": "53302d34-c04a-499e-87a7-9cc088fa8f8a",
   "metadata": {},
   "outputs": [
    {
     "data": {
      "text/plain": [
       "85     15.2\n",
       "183    26.2\n",
       "127     8.8\n",
       "53     21.2\n",
       "100    11.7\n",
       "       ... \n",
       "63     14.0\n",
       "70     18.3\n",
       "81     12.3\n",
       "11     17.4\n",
       "95     16.9\n",
       "Name: sales, Length: 140, dtype: float64"
      ]
     },
     "execution_count": 61,
     "metadata": {},
     "output_type": "execute_result"
    }
   ],
   "source": [
    "y_train"
   ]
  },
  {
   "cell_type": "code",
   "execution_count": 63,
   "id": "60235e38-1a64-4841-a5fd-b172e40a7fd6",
   "metadata": {},
   "outputs": [],
   "source": [
    "# see index positions are not changed, so that we can match it with x_test and y_test in the evaluation part "
   ]
  },
  {
   "cell_type": "code",
   "execution_count": 64,
   "id": "ba8944dd-f2df-42b8-aaea-1ba78809bf96",
   "metadata": {},
   "outputs": [
    {
     "data": {
      "text/plain": [
       "60"
      ]
     },
     "execution_count": 64,
     "metadata": {},
     "output_type": "execute_result"
    }
   ],
   "source": [
    "len(X_test)"
   ]
  },
  {
   "cell_type": "code",
   "execution_count": 65,
   "id": "33d464b2-e59a-422b-ae55-d9124a747cd1",
   "metadata": {},
   "outputs": [],
   "source": [
    "# hence 30 percent is split"
   ]
  },
  {
   "cell_type": "markdown",
   "id": "591ff68a-7efa-48bd-a1b9-7925b018b8ab",
   "metadata": {},
   "source": [
    "## creating a model , i.e creating an estimator in sklearn\n"
   ]
  },
  {
   "cell_type": "code",
   "execution_count": 67,
   "id": "f73eb2ca-6fc8-448a-8aec-fe20adf15358",
   "metadata": {},
   "outputs": [],
   "source": [
    "from  sklearn.linear_model import LinearRegression"
   ]
  },
  {
   "cell_type": "code",
   "execution_count": 69,
   "id": "f3a08bd4-b7cf-4d89-9dc8-5a90f99308e0",
   "metadata": {},
   "outputs": [],
   "source": [
    "#help(LinearRegression)"
   ]
  },
  {
   "cell_type": "code",
   "execution_count": 70,
   "id": "081f5ddb-f11f-4f17-ae83-ec08a1582f1a",
   "metadata": {},
   "outputs": [],
   "source": [
    "model = LinearRegression()  # we are creating an instance of model"
   ]
  },
  {
   "cell_type": "code",
   "execution_count": 71,
   "id": "1f8f28cb-baf7-4be0-846d-cc3ba4007079",
   "metadata": {},
   "outputs": [
    {
     "data": {
      "text/html": [
       "<style>#sk-container-id-1 {color: black;background-color: white;}#sk-container-id-1 pre{padding: 0;}#sk-container-id-1 div.sk-toggleable {background-color: white;}#sk-container-id-1 label.sk-toggleable__label {cursor: pointer;display: block;width: 100%;margin-bottom: 0;padding: 0.3em;box-sizing: border-box;text-align: center;}#sk-container-id-1 label.sk-toggleable__label-arrow:before {content: \"▸\";float: left;margin-right: 0.25em;color: #696969;}#sk-container-id-1 label.sk-toggleable__label-arrow:hover:before {color: black;}#sk-container-id-1 div.sk-estimator:hover label.sk-toggleable__label-arrow:before {color: black;}#sk-container-id-1 div.sk-toggleable__content {max-height: 0;max-width: 0;overflow: hidden;text-align: left;background-color: #f0f8ff;}#sk-container-id-1 div.sk-toggleable__content pre {margin: 0.2em;color: black;border-radius: 0.25em;background-color: #f0f8ff;}#sk-container-id-1 input.sk-toggleable__control:checked~div.sk-toggleable__content {max-height: 200px;max-width: 100%;overflow: auto;}#sk-container-id-1 input.sk-toggleable__control:checked~label.sk-toggleable__label-arrow:before {content: \"▾\";}#sk-container-id-1 div.sk-estimator input.sk-toggleable__control:checked~label.sk-toggleable__label {background-color: #d4ebff;}#sk-container-id-1 div.sk-label input.sk-toggleable__control:checked~label.sk-toggleable__label {background-color: #d4ebff;}#sk-container-id-1 input.sk-hidden--visually {border: 0;clip: rect(1px 1px 1px 1px);clip: rect(1px, 1px, 1px, 1px);height: 1px;margin: -1px;overflow: hidden;padding: 0;position: absolute;width: 1px;}#sk-container-id-1 div.sk-estimator {font-family: monospace;background-color: #f0f8ff;border: 1px dotted black;border-radius: 0.25em;box-sizing: border-box;margin-bottom: 0.5em;}#sk-container-id-1 div.sk-estimator:hover {background-color: #d4ebff;}#sk-container-id-1 div.sk-parallel-item::after {content: \"\";width: 100%;border-bottom: 1px solid gray;flex-grow: 1;}#sk-container-id-1 div.sk-label:hover label.sk-toggleable__label {background-color: #d4ebff;}#sk-container-id-1 div.sk-serial::before {content: \"\";position: absolute;border-left: 1px solid gray;box-sizing: border-box;top: 0;bottom: 0;left: 50%;z-index: 0;}#sk-container-id-1 div.sk-serial {display: flex;flex-direction: column;align-items: center;background-color: white;padding-right: 0.2em;padding-left: 0.2em;position: relative;}#sk-container-id-1 div.sk-item {position: relative;z-index: 1;}#sk-container-id-1 div.sk-parallel {display: flex;align-items: stretch;justify-content: center;background-color: white;position: relative;}#sk-container-id-1 div.sk-item::before, #sk-container-id-1 div.sk-parallel-item::before {content: \"\";position: absolute;border-left: 1px solid gray;box-sizing: border-box;top: 0;bottom: 0;left: 50%;z-index: -1;}#sk-container-id-1 div.sk-parallel-item {display: flex;flex-direction: column;z-index: 1;position: relative;background-color: white;}#sk-container-id-1 div.sk-parallel-item:first-child::after {align-self: flex-end;width: 50%;}#sk-container-id-1 div.sk-parallel-item:last-child::after {align-self: flex-start;width: 50%;}#sk-container-id-1 div.sk-parallel-item:only-child::after {width: 0;}#sk-container-id-1 div.sk-dashed-wrapped {border: 1px dashed gray;margin: 0 0.4em 0.5em 0.4em;box-sizing: border-box;padding-bottom: 0.4em;background-color: white;}#sk-container-id-1 div.sk-label label {font-family: monospace;font-weight: bold;display: inline-block;line-height: 1.2em;}#sk-container-id-1 div.sk-label-container {text-align: center;}#sk-container-id-1 div.sk-container {/* jupyter's `normalize.less` sets `[hidden] { display: none; }` but bootstrap.min.css set `[hidden] { display: none !important; }` so we also need the `!important` here to be able to override the default hidden behavior on the sphinx rendered scikit-learn.org. See: https://github.com/scikit-learn/scikit-learn/issues/21755 */display: inline-block !important;position: relative;}#sk-container-id-1 div.sk-text-repr-fallback {display: none;}</style><div id=\"sk-container-id-1\" class=\"sk-top-container\"><div class=\"sk-text-repr-fallback\"><pre>LinearRegression()</pre><b>In a Jupyter environment, please rerun this cell to show the HTML representation or trust the notebook. <br />On GitHub, the HTML representation is unable to render, please try loading this page with nbviewer.org.</b></div><div class=\"sk-container\" hidden><div class=\"sk-item\"><div class=\"sk-estimator sk-toggleable\"><input class=\"sk-toggleable__control sk-hidden--visually\" id=\"sk-estimator-id-1\" type=\"checkbox\" checked><label for=\"sk-estimator-id-1\" class=\"sk-toggleable__label sk-toggleable__label-arrow\">LinearRegression</label><div class=\"sk-toggleable__content\"><pre>LinearRegression()</pre></div></div></div></div></div>"
      ],
      "text/plain": [
       "LinearRegression()"
      ]
     },
     "execution_count": 71,
     "metadata": {},
     "output_type": "execute_result"
    }
   ],
   "source": [
    "model.fit(X_train,y_train)"
   ]
  },
  {
   "cell_type": "code",
   "execution_count": 72,
   "id": "d39fd9da-8ecb-4a41-94ad-7b0cb83457cf",
   "metadata": {},
   "outputs": [
    {
     "data": {
      "text/plain": [
       "array([15.74131332, 19.61062568, 11.44888935, 17.00819787,  9.17285676,\n",
       "        7.01248287, 20.28992463, 17.29953992,  9.77584467, 19.22194224,\n",
       "       12.40503154, 13.89234998, 13.72541098, 21.28794031, 18.42456638,\n",
       "        9.98198406, 15.55228966,  7.68913693,  7.55614992, 20.40311209,\n",
       "        7.79215204, 18.24214098, 24.68631904, 22.82199068,  7.97962085,\n",
       "       12.65207264, 21.46925937,  8.05228573, 12.42315981, 12.50719678,\n",
       "       10.77757812, 19.24460093, 10.070269  ,  6.70779999, 17.31492147,\n",
       "        7.76764327,  9.25393336,  8.27834697, 10.58105585, 10.63591128,\n",
       "       13.01002595,  9.77192057, 10.21469861,  8.04572042, 11.5671075 ,\n",
       "       10.08368001,  8.99806574, 16.25388914, 13.23942315, 20.81493419,\n",
       "       12.49727439, 13.96615898, 17.56285075, 11.14537013, 12.56261468,\n",
       "        5.50870279, 23.29465134, 12.62409688, 18.77399978, 15.18785675])"
      ]
     },
     "execution_count": 72,
     "metadata": {},
     "output_type": "execute_result"
    }
   ],
   "source": [
    "model.predict(X_test)"
   ]
  },
  {
   "cell_type": "markdown",
   "id": "4a7a024c-b03e-4cc1-b541-d1576cce6ba1",
   "metadata": {},
   "source": [
    "## performance evaluation"
   ]
  },
  {
   "cell_type": "markdown",
   "id": "23da9c75-cb7b-4e5c-a1e6-916225d9e423",
   "metadata": {},
   "source": [
    "## specifically regression metrics"
   ]
  },
  {
   "cell_type": "markdown",
   "id": "c639ab29-9eb7-4614-babd-bfc4a3e22616",
   "metadata": {},
   "source": [
    "## remember these are good for regression tasks, not just linear regression"
   ]
  },
  {
   "cell_type": "code",
   "execution_count": 75,
   "id": "4ce65f8e-459b-463b-8af6-3d1fc58c0c10",
   "metadata": {},
   "outputs": [],
   "source": [
    "# we need metrics designed for continuoius values"
   ]
  },
  {
   "cell_type": "code",
   "execution_count": 77,
   "id": "e00d4117-bd12-47fb-890b-a22cd435c76a",
   "metadata": {},
   "outputs": [],
   "source": [
    "# model.predict(X_test) # predict on x test and compare with y_test"
   ]
  },
  {
   "cell_type": "code",
   "execution_count": 78,
   "id": "207c375e-e511-4c12-87cc-7567ce79ff6f",
   "metadata": {},
   "outputs": [
    {
     "data": {
      "text/html": [
       "<div>\n",
       "<style scoped>\n",
       "    .dataframe tbody tr th:only-of-type {\n",
       "        vertical-align: middle;\n",
       "    }\n",
       "\n",
       "    .dataframe tbody tr th {\n",
       "        vertical-align: top;\n",
       "    }\n",
       "\n",
       "    .dataframe thead th {\n",
       "        text-align: right;\n",
       "    }\n",
       "</style>\n",
       "<table border=\"1\" class=\"dataframe\">\n",
       "  <thead>\n",
       "    <tr style=\"text-align: right;\">\n",
       "      <th></th>\n",
       "      <th>TV</th>\n",
       "      <th>radio</th>\n",
       "      <th>newspaper</th>\n",
       "    </tr>\n",
       "  </thead>\n",
       "  <tbody>\n",
       "    <tr>\n",
       "      <th>37</th>\n",
       "      <td>74.7</td>\n",
       "      <td>49.4</td>\n",
       "      <td>45.7</td>\n",
       "    </tr>\n",
       "    <tr>\n",
       "      <th>109</th>\n",
       "      <td>255.4</td>\n",
       "      <td>26.9</td>\n",
       "      <td>5.5</td>\n",
       "    </tr>\n",
       "    <tr>\n",
       "      <th>31</th>\n",
       "      <td>112.9</td>\n",
       "      <td>17.4</td>\n",
       "      <td>38.6</td>\n",
       "    </tr>\n",
       "    <tr>\n",
       "      <th>89</th>\n",
       "      <td>109.8</td>\n",
       "      <td>47.8</td>\n",
       "      <td>51.4</td>\n",
       "    </tr>\n",
       "    <tr>\n",
       "      <th>66</th>\n",
       "      <td>31.5</td>\n",
       "      <td>24.6</td>\n",
       "      <td>2.2</td>\n",
       "    </tr>\n",
       "  </tbody>\n",
       "</table>\n",
       "</div>"
      ],
      "text/plain": [
       "        TV  radio  newspaper\n",
       "37    74.7   49.4       45.7\n",
       "109  255.4   26.9        5.5\n",
       "31   112.9   17.4       38.6\n",
       "89   109.8   47.8       51.4\n",
       "66    31.5   24.6        2.2"
      ]
     },
     "execution_count": 78,
     "metadata": {},
     "output_type": "execute_result"
    }
   ],
   "source": [
    "X_test.head()"
   ]
  },
  {
   "cell_type": "code",
   "execution_count": 79,
   "id": "189fdad1-82c4-4609-b0d7-b906f6f755a1",
   "metadata": {},
   "outputs": [
    {
     "data": {
      "text/plain": [
       "37     14.7\n",
       "109    19.8\n",
       "31     11.9\n",
       "89     16.7\n",
       "66      9.5\n",
       "Name: sales, dtype: float64"
      ]
     },
     "execution_count": 79,
     "metadata": {},
     "output_type": "execute_result"
    }
   ],
   "source": [
    "y_test.head()"
   ]
  },
  {
   "cell_type": "code",
   "execution_count": 80,
   "id": "b25603f2-d4ab-4a67-b27e-68a0a7fde1a1",
   "metadata": {},
   "outputs": [],
   "source": [
    "test_predictions = model.predict(X_test)"
   ]
  },
  {
   "cell_type": "code",
   "execution_count": 81,
   "id": "cd515854-077a-4030-aa4a-2e45a1490a32",
   "metadata": {},
   "outputs": [
    {
     "data": {
      "text/plain": [
       "array([15.74131332, 19.61062568, 11.44888935, 17.00819787,  9.17285676,\n",
       "        7.01248287, 20.28992463, 17.29953992,  9.77584467, 19.22194224,\n",
       "       12.40503154, 13.89234998, 13.72541098, 21.28794031, 18.42456638,\n",
       "        9.98198406, 15.55228966,  7.68913693,  7.55614992, 20.40311209,\n",
       "        7.79215204, 18.24214098, 24.68631904, 22.82199068,  7.97962085,\n",
       "       12.65207264, 21.46925937,  8.05228573, 12.42315981, 12.50719678,\n",
       "       10.77757812, 19.24460093, 10.070269  ,  6.70779999, 17.31492147,\n",
       "        7.76764327,  9.25393336,  8.27834697, 10.58105585, 10.63591128,\n",
       "       13.01002595,  9.77192057, 10.21469861,  8.04572042, 11.5671075 ,\n",
       "       10.08368001,  8.99806574, 16.25388914, 13.23942315, 20.81493419,\n",
       "       12.49727439, 13.96615898, 17.56285075, 11.14537013, 12.56261468,\n",
       "        5.50870279, 23.29465134, 12.62409688, 18.77399978, 15.18785675])"
      ]
     },
     "execution_count": 81,
     "metadata": {},
     "output_type": "execute_result"
    }
   ],
   "source": [
    "test_predictions"
   ]
  },
  {
   "cell_type": "code",
   "execution_count": 82,
   "id": "676f377b-9231-45ae-81a8-d851a373bebb",
   "metadata": {},
   "outputs": [],
   "source": [
    " from sklearn.metrics import mean_absolute_error, mean_squared_error"
   ]
  },
  {
   "cell_type": "code",
   "execution_count": 83,
   "id": "64659480-8007-4378-b91a-872a4fa08c21",
   "metadata": {},
   "outputs": [],
   "source": [
    "# for root mean square, we can take the root of mean_squared_error"
   ]
  },
  {
   "cell_type": "code",
   "execution_count": 84,
   "id": "9d2fae2f-ca80-4207-80c9-4ae146daf372",
   "metadata": {},
   "outputs": [
    {
     "data": {
      "text/plain": [
       "14.0225"
      ]
     },
     "execution_count": 84,
     "metadata": {},
     "output_type": "execute_result"
    }
   ],
   "source": [
    "df[\"sales\"].mean()"
   ]
  },
  {
   "cell_type": "code",
   "execution_count": 86,
   "id": "34aff5e6-7980-4a27-b9c8-95c324bc2daf",
   "metadata": {},
   "outputs": [
    {
     "data": {
      "text/plain": [
       "<Axes: xlabel='sales', ylabel='Count'>"
      ]
     },
     "execution_count": 86,
     "metadata": {},
     "output_type": "execute_result"
    },
    {
     "data": {
      "image/png": "[encoded data removed]",
      "text/plain": [
       "<Figure size 640x480 with 1 Axes>"
      ]
     },
     "metadata": {},
     "output_type": "display_data"
    }
   ],
   "source": [
    "sns.histplot(data=df, x=\"sales\", bins=20)"
   ]
  },
  {
   "cell_type": "code",
   "execution_count": 87,
   "id": "dab87a23-1612-4af6-a1fb-d129ba238e78",
   "metadata": {},
   "outputs": [
    {
     "data": {
      "text/plain": [
       "1.213745773614481"
      ]
     },
     "execution_count": 87,
     "metadata": {},
     "output_type": "execute_result"
    }
   ],
   "source": [
    "mean_absolute_error(y_test,test_predictions)"
   ]
  },
  {
   "cell_type": "code",
   "execution_count": 88,
   "id": "63454a4e-8169-4ffa-8123-3c09664ea6e8",
   "metadata": {},
   "outputs": [
    {
     "data": {
      "text/plain": [
       "2.29871669788638"
      ]
     },
     "execution_count": 88,
     "metadata": {},
     "output_type": "execute_result"
    }
   ],
   "source": [
    "mean_squared_error(y_test,test_predictions)"
   ]
  },
  {
   "cell_type": "code",
   "execution_count": 89,
   "id": "1c94c39e-b966-496c-b292-fc290fe0e590",
   "metadata": {},
   "outputs": [],
   "source": [
    "# you cant directly compare MSE to mean as units are different , so take root , i.e RMSE"
   ]
  },
  {
   "cell_type": "code",
   "execution_count": 90,
   "id": "3bcf0e58-1f53-43f5-9890-2e53233f6253",
   "metadata": {},
   "outputs": [],
   "source": [
    "# RMSE calculation"
   ]
  },
  {
   "cell_type": "code",
   "execution_count": 91,
   "id": "eebc361f-7457-49cc-82da-8b3394dca0fc",
   "metadata": {},
   "outputs": [
    {
     "data": {
      "text/plain": [
       "1.5161519375993884"
      ]
     },
     "execution_count": 91,
     "metadata": {},
     "output_type": "execute_result"
    }
   ],
   "source": [
    "np.sqrt(mean_squared_error(y_test,test_predictions))"
   ]
  },
  {
   "cell_type": "markdown",
   "id": "db39aa4b-30a7-4f5b-a646-5837f53b4e4d",
   "metadata": {},
   "source": [
    "## residual plots"
   ]
  },
  {
   "cell_type": "code",
   "execution_count": 92,
   "id": "32f6c97a-38f8-4863-bc21-954cdc60176a",
   "metadata": {},
   "outputs": [],
   "source": [
    "test_residuals = y_test - test_predictions"
   ]
  },
  {
   "cell_type": "code",
   "execution_count": 94,
   "id": "2163d1bb-2b56-4b3f-92e3-7bc965eacaa5",
   "metadata": {},
   "outputs": [],
   "source": [
    "#test_residuals"
   ]
  },
  {
   "cell_type": "code",
   "execution_count": 96,
   "id": "de5ed2b1-4db5-4944-a2f5-0b623a9584a8",
   "metadata": {},
   "outputs": [
    {
     "data": {
      "text/plain": [
       "<matplotlib.lines.Line2D at 0x24994267e90>"
      ]
     },
     "execution_count": 96,
     "metadata": {},
     "output_type": "execute_result"
    },
    {
     "data": {
      "image/png": "[encoded data removed]",
      "text/plain": [
       "<Figure size 640x480 with 1 Axes>"
      ]
     },
     "metadata": {},
     "output_type": "display_data"
    }
   ],
   "source": [
    "sns.scatterplot(x=y_test, y=test_residuals)\n",
    "plt.axhline(y=0, color=\"red\", ls=\"--\")"
   ]
  },
  {
   "cell_type": "code",
   "execution_count": 97,
   "id": "600b3067-cb38-4a68-8f87-a739cc30b328",
   "metadata": {},
   "outputs": [],
   "source": [
    "# hence no clear line or curve "
   ]
  },
  {
   "cell_type": "code",
   "execution_count": 98,
   "id": "e368ba56-b8d7-4f5e-8c91-45709353a8cd",
   "metadata": {},
   "outputs": [
    {
     "data": {
      "text/plain": [
       "<seaborn.axisgrid.FacetGrid at 0x24995950910>"
      ]
     },
     "execution_count": 98,
     "metadata": {},
     "output_type": "execute_result"
    },
    {
     "data": {
      "image/png": "[encoded data removed]",
      "text/plain": [
       "<Figure size 500x500 with 1 Axes>"
      ]
     },
     "metadata": {},
     "output_type": "display_data"
    }
   ],
   "source": [
    "sns.displot(test_residuals, bins=25, kde=True)"
   ]
  },
  {
   "cell_type": "code",
   "execution_count": 99,
   "id": "72465daf-a45d-471b-8e58-6675881c396d",
   "metadata": {},
   "outputs": [],
   "source": [
    "# dist is just slightly skewed, so no worries"
   ]
  },
  {
   "cell_type": "markdown",
   "id": "edb907a0-b04f-4c48-8a6f-b449b8eb75a7",
   "metadata": {},
   "source": [
    "## But the ultimate way to conclude is by residual plots"
   ]
  },
  {
   "cell_type": "code",
   "execution_count": 100,
   "id": "c5e066bd-f3ef-4c5e-ae9b-c03d269bd61b",
   "metadata": {},
   "outputs": [],
   "source": [
    "# look more into probability plot using scipy, to know if our distribution follows normal distribution"
   ]
  },
  {
   "cell_type": "markdown",
   "id": "057782cc-ff74-49d5-8918-21442c34b81d",
   "metadata": {},
   "source": [
    "## saving and loading the model"
   ]
  },
  {
   "cell_type": "code",
   "execution_count": 102,
   "id": "41a95e67-8873-4c1c-821b-6c149db366a5",
   "metadata": {},
   "outputs": [],
   "source": [
    "final_model = LinearRegression()"
   ]
  },
  {
   "cell_type": "code",
   "execution_count": 103,
   "id": "a80deee1-4d1e-4a9d-b291-e8b302670529",
   "metadata": {},
   "outputs": [
    {
     "data": {
      "text/html": [
       "<style>#sk-container-id-2 {color: black;background-color: white;}#sk-container-id-2 pre{padding: 0;}#sk-container-id-2 div.sk-toggleable {background-color: white;}#sk-container-id-2 label.sk-toggleable__label {cursor: pointer;display: block;width: 100%;margin-bottom: 0;padding: 0.3em;box-sizing: border-box;text-align: center;}#sk-container-id-2 label.sk-toggleable__label-arrow:before {content: \"▸\";float: left;margin-right: 0.25em;color: #696969;}#sk-container-id-2 label.sk-toggleable__label-arrow:hover:before {color: black;}#sk-container-id-2 div.sk-estimator:hover label.sk-toggleable__label-arrow:before {color: black;}#sk-container-id-2 div.sk-toggleable__content {max-height: 0;max-width: 0;overflow: hidden;text-align: left;background-color: #f0f8ff;}#sk-container-id-2 div.sk-toggleable__content pre {margin: 0.2em;color: black;border-radius: 0.25em;background-color: #f0f8ff;}#sk-container-id-2 input.sk-toggleable__control:checked~div.sk-toggleable__content {max-height: 200px;max-width: 100%;overflow: auto;}#sk-container-id-2 input.sk-toggleable__control:checked~label.sk-toggleable__label-arrow:before {content: \"▾\";}#sk-container-id-2 div.sk-estimator input.sk-toggleable__control:checked~label.sk-toggleable__label {background-color: #d4ebff;}#sk-container-id-2 div.sk-label input.sk-toggleable__control:checked~label.sk-toggleable__label {background-color: #d4ebff;}#sk-container-id-2 input.sk-hidden--visually {border: 0;clip: rect(1px 1px 1px 1px);clip: rect(1px, 1px, 1px, 1px);height: 1px;margin: -1px;overflow: hidden;padding: 0;position: absolute;width: 1px;}#sk-container-id-2 div.sk-estimator {font-family: monospace;background-color: #f0f8ff;border: 1px dotted black;border-radius: 0.25em;box-sizing: border-box;margin-bottom: 0.5em;}#sk-container-id-2 div.sk-estimator:hover {background-color: #d4ebff;}#sk-container-id-2 div.sk-parallel-item::after {content: \"\";width: 100%;border-bottom: 1px solid gray;flex-grow: 1;}#sk-container-id-2 div.sk-label:hover label.sk-toggleable__label {background-color: #d4ebff;}#sk-container-id-2 div.sk-serial::before {content: \"\";position: absolute;border-left: 1px solid gray;box-sizing: border-box;top: 0;bottom: 0;left: 50%;z-index: 0;}#sk-container-id-2 div.sk-serial {display: flex;flex-direction: column;align-items: center;background-color: white;padding-right: 0.2em;padding-left: 0.2em;position: relative;}#sk-container-id-2 div.sk-item {position: relative;z-index: 1;}#sk-container-id-2 div.sk-parallel {display: flex;align-items: stretch;justify-content: center;background-color: white;position: relative;}#sk-container-id-2 div.sk-item::before, #sk-container-id-2 div.sk-parallel-item::before {content: \"\";position: absolute;border-left: 1px solid gray;box-sizing: border-box;top: 0;bottom: 0;left: 50%;z-index: -1;}#sk-container-id-2 div.sk-parallel-item {display: flex;flex-direction: column;z-index: 1;position: relative;background-color: white;}#sk-container-id-2 div.sk-parallel-item:first-child::after {align-self: flex-end;width: 50%;}#sk-container-id-2 div.sk-parallel-item:last-child::after {align-self: flex-start;width: 50%;}#sk-container-id-2 div.sk-parallel-item:only-child::after {width: 0;}#sk-container-id-2 div.sk-dashed-wrapped {border: 1px dashed gray;margin: 0 0.4em 0.5em 0.4em;box-sizing: border-box;padding-bottom: 0.4em;background-color: white;}#sk-container-id-2 div.sk-label label {font-family: monospace;font-weight: bold;display: inline-block;line-height: 1.2em;}#sk-container-id-2 div.sk-label-container {text-align: center;}#sk-container-id-2 div.sk-container {/* jupyter's `normalize.less` sets `[hidden] { display: none; }` but bootstrap.min.css set `[hidden] { display: none !important; }` so we also need the `!important` here to be able to override the default hidden behavior on the sphinx rendered scikit-learn.org. See: https://github.com/scikit-learn/scikit-learn/issues/21755 */display: inline-block !important;position: relative;}#sk-container-id-2 div.sk-text-repr-fallback {display: none;}</style><div id=\"sk-container-id-2\" class=\"sk-top-container\"><div class=\"sk-text-repr-fallback\"><pre>LinearRegression()</pre><b>In a Jupyter environment, please rerun this cell to show the HTML representation or trust the notebook. <br />On GitHub, the HTML representation is unable to render, please try loading this page with nbviewer.org.</b></div><div class=\"sk-container\" hidden><div class=\"sk-item\"><div class=\"sk-estimator sk-toggleable\"><input class=\"sk-toggleable__control sk-hidden--visually\" id=\"sk-estimator-id-2\" type=\"checkbox\" checked><label for=\"sk-estimator-id-2\" class=\"sk-toggleable__label sk-toggleable__label-arrow\">LinearRegression</label><div class=\"sk-toggleable__content\"><pre>LinearRegression()</pre></div></div></div></div></div>"
      ],
      "text/plain": [
       "LinearRegression()"
      ]
     },
     "execution_count": 103,
     "metadata": {},
     "output_type": "execute_result"
    }
   ],
   "source": [
    "final_model.fit(X,y)"
   ]
  },
  {
   "cell_type": "code",
   "execution_count": 104,
   "id": "0ad84ff3-cad0-40ea-957e-1d9f55db8be1",
   "metadata": {},
   "outputs": [],
   "source": [
    "# see we passed in the whole data set, bcuz we concluded our model is good with training data"
   ]
  },
  {
   "cell_type": "code",
   "execution_count": 105,
   "id": "1149ddea-6b0b-4a9a-acdb-cdb1104f307c",
   "metadata": {},
   "outputs": [
    {
     "data": {
      "text/plain": [
       "array([ 0.04576465,  0.18853002, -0.00103749])"
      ]
     },
     "execution_count": 105,
     "metadata": {},
     "output_type": "execute_result"
    }
   ],
   "source": [
    "final_model.coef_"
   ]
  },
  {
   "cell_type": "code",
   "execution_count": 106,
   "id": "2b2f7950-b69e-472d-89ac-c14f706f1b64",
   "metadata": {},
   "outputs": [],
   "source": [
    "# this gives the coefficients ( here 3 beta coefficients)"
   ]
  },
  {
   "cell_type": "code",
   "execution_count": 107,
   "id": "4a4005aa-7ce8-48c4-9e33-c63d3194fe7c",
   "metadata": {},
   "outputs": [
    {
     "data": {
      "text/html": [
       "<div>\n",
       "<style scoped>\n",
       "    .dataframe tbody tr th:only-of-type {\n",
       "        vertical-align: middle;\n",
       "    }\n",
       "\n",
       "    .dataframe tbody tr th {\n",
       "        vertical-align: top;\n",
       "    }\n",
       "\n",
       "    .dataframe thead th {\n",
       "        text-align: right;\n",
       "    }\n",
       "</style>\n",
       "<table border=\"1\" class=\"dataframe\">\n",
       "  <thead>\n",
       "    <tr style=\"text-align: right;\">\n",
       "      <th></th>\n",
       "      <th>TV</th>\n",
       "      <th>radio</th>\n",
       "      <th>newspaper</th>\n",
       "    </tr>\n",
       "  </thead>\n",
       "  <tbody>\n",
       "    <tr>\n",
       "      <th>0</th>\n",
       "      <td>230.1</td>\n",
       "      <td>37.8</td>\n",
       "      <td>69.2</td>\n",
       "    </tr>\n",
       "    <tr>\n",
       "      <th>1</th>\n",
       "      <td>44.5</td>\n",
       "      <td>39.3</td>\n",
       "      <td>45.1</td>\n",
       "    </tr>\n",
       "    <tr>\n",
       "      <th>2</th>\n",
       "      <td>17.2</td>\n",
       "      <td>45.9</td>\n",
       "      <td>69.3</td>\n",
       "    </tr>\n",
       "    <tr>\n",
       "      <th>3</th>\n",
       "      <td>151.5</td>\n",
       "      <td>41.3</td>\n",
       "      <td>58.5</td>\n",
       "    </tr>\n",
       "    <tr>\n",
       "      <th>4</th>\n",
       "      <td>180.8</td>\n",
       "      <td>10.8</td>\n",
       "      <td>58.4</td>\n",
       "    </tr>\n",
       "  </tbody>\n",
       "</table>\n",
       "</div>"
      ],
      "text/plain": [
       "      TV  radio  newspaper\n",
       "0  230.1   37.8       69.2\n",
       "1   44.5   39.3       45.1\n",
       "2   17.2   45.9       69.3\n",
       "3  151.5   41.3       58.5\n",
       "4  180.8   10.8       58.4"
      ]
     },
     "execution_count": 107,
     "metadata": {},
     "output_type": "execute_result"
    }
   ],
   "source": [
    "X.head()"
   ]
  },
  {
   "cell_type": "code",
   "execution_count": 108,
   "id": "d6db2d73-2bb8-457c-be6f-a90d7294a4a7",
   "metadata": {},
   "outputs": [
    {
     "data": {
      "text/plain": [
       "array([ 0.04576465,  0.18853002, -0.00103749])"
      ]
     },
     "execution_count": 108,
     "metadata": {},
     "output_type": "execute_result"
    }
   ],
   "source": [
    "final_model.coef_"
   ]
  },
  {
   "cell_type": "markdown",
   "id": "1f042f16-063b-44ec-aca9-9bfac2084aa0",
   "metadata": {},
   "source": [
    "## see the third coeff is almost zero, and actually it is even negative, i.e spending money on newspaper ads actually slightly decreases our sales!!"
   ]
  },
  {
   "cell_type": "markdown",
   "id": "21211015-7cca-433c-98f0-145d0a5253c5",
   "metadata": {},
   "source": [
    "## this as a hint was already seen before when we plotted all three separately vs sales"
   ]
  },
  {
   "cell_type": "code",
   "execution_count": 110,
   "id": "3dc6908e-c0bf-402a-86a6-fd7948269ca5",
   "metadata": {},
   "outputs": [],
   "source": [
    "from joblib import dump,load"
   ]
  },
  {
   "cell_type": "code",
   "execution_count": 111,
   "id": "aa1c07f7-0cff-4941-ad92-78d8188c1252",
   "metadata": {},
   "outputs": [
    {
     "data": {
      "text/plain": [
       "['final_sales_model.joblib']"
      ]
     },
     "execution_count": 111,
     "metadata": {},
     "output_type": "execute_result"
    }
   ],
   "source": [
    "dump(final_model, \"final_sales_model.joblib\")"
   ]
  },
  {
   "cell_type": "code",
   "execution_count": 112,
   "id": "c146c58e-0e0d-4bc9-86dc-e6d228a6b793",
   "metadata": {},
   "outputs": [],
   "source": [
    "# this will save our model with that name"
   ]
  },
  {
   "cell_type": "code",
   "execution_count": 113,
   "id": "2fac582a-72b4-4663-925b-d5197d0878d7",
   "metadata": {},
   "outputs": [],
   "source": [
    "# to load our model"
   ]
  },
  {
   "cell_type": "code",
   "execution_count": 114,
   "id": "dd04851a-e842-4064-a55d-76df2449d167",
   "metadata": {},
   "outputs": [],
   "source": [
    "loaded_model = load(\"final_sales_model.joblib\")"
   ]
  },
  {
   "cell_type": "code",
   "execution_count": 115,
   "id": "0465bf8f-e342-4e9e-aba9-ed529051acb1",
   "metadata": {},
   "outputs": [],
   "source": [
    "# we can see coeff using coeff_ method"
   ]
  },
  {
   "cell_type": "code",
   "execution_count": 116,
   "id": "af32dce4-ffd0-482f-9640-9bb97e90f721",
   "metadata": {},
   "outputs": [
    {
     "data": {
      "text/plain": [
       "array([ 0.04576465,  0.18853002, -0.00103749])"
      ]
     },
     "execution_count": 116,
     "metadata": {},
     "output_type": "execute_result"
    }
   ],
   "source": [
    "loaded_model.coef_"
   ]
  },
  {
   "cell_type": "code",
   "execution_count": 117,
   "id": "b9fcb728-59db-442f-a49f-78204e214635",
   "metadata": {},
   "outputs": [],
   "source": [
    "# these coeff will be exactly same as our final model, as both of them are same"
   ]
  },
  {
   "cell_type": "code",
   "execution_count": 118,
   "id": "0b4ff6c9-93a3-4773-a254-e028295f1465",
   "metadata": {},
   "outputs": [],
   "source": [
    "## lets see if we run a campaign of some no of Tv , radio, newspaper ads, the sales we might expect"
   ]
  },
  {
   "cell_type": "code",
   "execution_count": 119,
   "id": "69852bb8-1026-405b-952f-7fb208014ad7",
   "metadata": {},
   "outputs": [
    {
     "data": {
      "text/plain": [
       "(200, 3)"
      ]
     },
     "execution_count": 119,
     "metadata": {},
     "output_type": "execute_result"
    }
   ],
   "source": [
    "X.shape"
   ]
  },
  {
   "cell_type": "code",
   "execution_count": 123,
   "id": "935f8976-a041-4ebd-98bf-99b7584dcfa2",
   "metadata": {},
   "outputs": [],
   "source": [
    "# 149 units of TV,23 units of radio , 43 units of newspaper ads\n",
    "\n",
    "campaign = [[149,23,43]]"
   ]
  },
  {
   "cell_type": "code",
   "execution_count": 124,
   "id": "ae9fb822-4726-4744-9830-bc868bd8c184",
   "metadata": {},
   "outputs": [
    {
     "name": "stderr",
     "output_type": "stream",
     "text": [
      "C:\\Users\\likhi\\anaconda3\\envs\\bootcamp\\Lib\\site-packages\\sklearn\\base.py:420: UserWarning: X does not have valid feature names, but LinearRegression was fitted with feature names\n",
      "  warnings.warn(\n"
     ]
    },
    {
     "data": {
      "text/plain": [
       "array([14.04939973])"
      ]
     },
     "execution_count": 124,
     "metadata": {},
     "output_type": "execute_result"
    }
   ],
   "source": [
    "loaded_model.predict(campaign)"
   ]
  },
  {
   "cell_type": "markdown",
   "id": "03458691-5ebf-4b8a-9e4c-2c43e87601f1",
   "metadata": {},
   "source": [
    "## so we can expect this much sales with our campaign"
   ]
  },
  {
   "cell_type": "markdown",
   "id": "e66cd047-e12f-4d75-a225-dc1e91cb9503",
   "metadata": {},
   "source": [
    "## remember this prediction has same error as our model, we dont have any way of saying if this will be exactly the case\n",
    "## but it will be within the error range of our model "
   ]
  },
  {
   "cell_type": "markdown",
   "id": "b0cdcd22-e881-4a29-9ad6-1e5931960bbb",
   "metadata": {},
   "source": [
    "# POLYNOMIAL REGRESSION"
   ]
  },
  {
   "cell_type": "code",
   "execution_count": 4,
   "id": "48d29cbb-264b-4a29-99c8-23e5058dc984",
   "metadata": {},
   "outputs": [],
   "source": [
    "# scikit learn preprocessing library\n",
    "\n",
    "# one tool in it is \"PolynomialFeatures\"."
   ]
  },
  {
   "cell_type": "code",
   "execution_count": 5,
   "id": "69cf3cea-6ce7-40bc-9d90-de370b89440f",
   "metadata": {},
   "outputs": [],
   "source": [
    "df = pd.read_csv(\"Advertising.csv\")"
   ]
  },
  {
   "cell_type": "code",
   "execution_count": 6,
   "id": "d0e4b1a8-f5c7-4d89-bed3-ae73d4fa442b",
   "metadata": {},
   "outputs": [],
   "source": [
    "df.drop('Unnamed: 0', axis=1, inplace=True)"
   ]
  },
  {
   "cell_type": "code",
   "execution_count": 7,
   "id": "dc4d4479-b0fe-482d-b511-0b42e09f67c8",
   "metadata": {},
   "outputs": [
    {
     "data": {
      "text/html": [
       "<div>\n",
       "<style scoped>\n",
       "    .dataframe tbody tr th:only-of-type {\n",
       "        vertical-align: middle;\n",
       "    }\n",
       "\n",
       "    .dataframe tbody tr th {\n",
       "        vertical-align: top;\n",
       "    }\n",
       "\n",
       "    .dataframe thead th {\n",
       "        text-align: right;\n",
       "    }\n",
       "</style>\n",
       "<table border=\"1\" class=\"dataframe\">\n",
       "  <thead>\n",
       "    <tr style=\"text-align: right;\">\n",
       "      <th></th>\n",
       "      <th>TV</th>\n",
       "      <th>radio</th>\n",
       "      <th>newspaper</th>\n",
       "      <th>sales</th>\n",
       "    </tr>\n",
       "  </thead>\n",
       "  <tbody>\n",
       "    <tr>\n",
       "      <th>0</th>\n",
       "      <td>230.1</td>\n",
       "      <td>37.8</td>\n",
       "      <td>69.2</td>\n",
       "      <td>22.1</td>\n",
       "    </tr>\n",
       "    <tr>\n",
       "      <th>1</th>\n",
       "      <td>44.5</td>\n",
       "      <td>39.3</td>\n",
       "      <td>45.1</td>\n",
       "      <td>10.4</td>\n",
       "    </tr>\n",
       "    <tr>\n",
       "      <th>2</th>\n",
       "      <td>17.2</td>\n",
       "      <td>45.9</td>\n",
       "      <td>69.3</td>\n",
       "      <td>9.3</td>\n",
       "    </tr>\n",
       "    <tr>\n",
       "      <th>3</th>\n",
       "      <td>151.5</td>\n",
       "      <td>41.3</td>\n",
       "      <td>58.5</td>\n",
       "      <td>18.5</td>\n",
       "    </tr>\n",
       "    <tr>\n",
       "      <th>4</th>\n",
       "      <td>180.8</td>\n",
       "      <td>10.8</td>\n",
       "      <td>58.4</td>\n",
       "      <td>12.9</td>\n",
       "    </tr>\n",
       "  </tbody>\n",
       "</table>\n",
       "</div>"
      ],
      "text/plain": [
       "      TV  radio  newspaper  sales\n",
       "0  230.1   37.8       69.2   22.1\n",
       "1   44.5   39.3       45.1   10.4\n",
       "2   17.2   45.9       69.3    9.3\n",
       "3  151.5   41.3       58.5   18.5\n",
       "4  180.8   10.8       58.4   12.9"
      ]
     },
     "execution_count": 7,
     "metadata": {},
     "output_type": "execute_result"
    }
   ],
   "source": [
    "df.head()"
   ]
  },
  {
   "cell_type": "code",
   "execution_count": 8,
   "id": "cfad5920-0a95-42d7-83ca-06d132d06d07",
   "metadata": {},
   "outputs": [],
   "source": [
    "X = df.drop(\"sales\",axis=1)"
   ]
  },
  {
   "cell_type": "code",
   "execution_count": 9,
   "id": "4aa16419-d16c-4b1b-b80a-25ba36595dca",
   "metadata": {},
   "outputs": [],
   "source": [
    "y = df[\"sales\"]"
   ]
  },
  {
   "cell_type": "code",
   "execution_count": 10,
   "id": "39812df2-61cc-4ce9-a8bf-fae45e792de7",
   "metadata": {},
   "outputs": [],
   "source": [
    "from sklearn.preprocessing import PolynomialFeatures"
   ]
  },
  {
   "cell_type": "code",
   "execution_count": 11,
   "id": "7787e1e7-f85c-467c-8d21-482e94eb327b",
   "metadata": {},
   "outputs": [],
   "source": [
    "# framework is similar to how we use other models in sklearn\n",
    "\n",
    "# first we create an instance and so on"
   ]
  },
  {
   "cell_type": "code",
   "execution_count": 12,
   "id": "907cbdbd-d8db-4ba2-b422-9bb44e198eef",
   "metadata": {},
   "outputs": [],
   "source": [
    "polynomial_converter = PolynomialFeatures(degree=2, include_bias=False)\n",
    "\n",
    "# corrently we dont want the bias term, hence False"
   ]
  },
  {
   "cell_type": "code",
   "execution_count": 13,
   "id": "980b4c64-798d-4d19-bcd6-086379205acd",
   "metadata": {},
   "outputs": [
    {
     "data": {
      "text/html": [
       "<style>#sk-container-id-1 {color: black;background-color: white;}#sk-container-id-1 pre{padding: 0;}#sk-container-id-1 div.sk-toggleable {background-color: white;}#sk-container-id-1 label.sk-toggleable__label {cursor: pointer;display: block;width: 100%;margin-bottom: 0;padding: 0.3em;box-sizing: border-box;text-align: center;}#sk-container-id-1 label.sk-toggleable__label-arrow:before {content: \"▸\";float: left;margin-right: 0.25em;color: #696969;}#sk-container-id-1 label.sk-toggleable__label-arrow:hover:before {color: black;}#sk-container-id-1 div.sk-estimator:hover label.sk-toggleable__label-arrow:before {color: black;}#sk-container-id-1 div.sk-toggleable__content {max-height: 0;max-width: 0;overflow: hidden;text-align: left;background-color: #f0f8ff;}#sk-container-id-1 div.sk-toggleable__content pre {margin: 0.2em;color: black;border-radius: 0.25em;background-color: #f0f8ff;}#sk-container-id-1 input.sk-toggleable__control:checked~div.sk-toggleable__content {max-height: 200px;max-width: 100%;overflow: auto;}#sk-container-id-1 input.sk-toggleable__control:checked~label.sk-toggleable__label-arrow:before {content: \"▾\";}#sk-container-id-1 div.sk-estimator input.sk-toggleable__control:checked~label.sk-toggleable__label {background-color: #d4ebff;}#sk-container-id-1 div.sk-label input.sk-toggleable__control:checked~label.sk-toggleable__label {background-color: #d4ebff;}#sk-container-id-1 input.sk-hidden--visually {border: 0;clip: rect(1px 1px 1px 1px);clip: rect(1px, 1px, 1px, 1px);height: 1px;margin: -1px;overflow: hidden;padding: 0;position: absolute;width: 1px;}#sk-container-id-1 div.sk-estimator {font-family: monospace;background-color: #f0f8ff;border: 1px dotted black;border-radius: 0.25em;box-sizing: border-box;margin-bottom: 0.5em;}#sk-container-id-1 div.sk-estimator:hover {background-color: #d4ebff;}#sk-container-id-1 div.sk-parallel-item::after {content: \"\";width: 100%;border-bottom: 1px solid gray;flex-grow: 1;}#sk-container-id-1 div.sk-label:hover label.sk-toggleable__label {background-color: #d4ebff;}#sk-container-id-1 div.sk-serial::before {content: \"\";position: absolute;border-left: 1px solid gray;box-sizing: border-box;top: 0;bottom: 0;left: 50%;z-index: 0;}#sk-container-id-1 div.sk-serial {display: flex;flex-direction: column;align-items: center;background-color: white;padding-right: 0.2em;padding-left: 0.2em;position: relative;}#sk-container-id-1 div.sk-item {position: relative;z-index: 1;}#sk-container-id-1 div.sk-parallel {display: flex;align-items: stretch;justify-content: center;background-color: white;position: relative;}#sk-container-id-1 div.sk-item::before, #sk-container-id-1 div.sk-parallel-item::before {content: \"\";position: absolute;border-left: 1px solid gray;box-sizing: border-box;top: 0;bottom: 0;left: 50%;z-index: -1;}#sk-container-id-1 div.sk-parallel-item {display: flex;flex-direction: column;z-index: 1;position: relative;background-color: white;}#sk-container-id-1 div.sk-parallel-item:first-child::after {align-self: flex-end;width: 50%;}#sk-container-id-1 div.sk-parallel-item:last-child::after {align-self: flex-start;width: 50%;}#sk-container-id-1 div.sk-parallel-item:only-child::after {width: 0;}#sk-container-id-1 div.sk-dashed-wrapped {border: 1px dashed gray;margin: 0 0.4em 0.5em 0.4em;box-sizing: border-box;padding-bottom: 0.4em;background-color: white;}#sk-container-id-1 div.sk-label label {font-family: monospace;font-weight: bold;display: inline-block;line-height: 1.2em;}#sk-container-id-1 div.sk-label-container {text-align: center;}#sk-container-id-1 div.sk-container {/* jupyter's `normalize.less` sets `[hidden] { display: none; }` but bootstrap.min.css set `[hidden] { display: none !important; }` so we also need the `!important` here to be able to override the default hidden behavior on the sphinx rendered scikit-learn.org. See: https://github.com/scikit-learn/scikit-learn/issues/21755 */display: inline-block !important;position: relative;}#sk-container-id-1 div.sk-text-repr-fallback {display: none;}</style><div id=\"sk-container-id-1\" class=\"sk-top-container\"><div class=\"sk-text-repr-fallback\"><pre>PolynomialFeatures(include_bias=False)</pre><b>In a Jupyter environment, please rerun this cell to show the HTML representation or trust the notebook. <br />On GitHub, the HTML representation is unable to render, please try loading this page with nbviewer.org.</b></div><div class=\"sk-container\" hidden><div class=\"sk-item\"><div class=\"sk-estimator sk-toggleable\"><input class=\"sk-toggleable__control sk-hidden--visually\" id=\"sk-estimator-id-1\" type=\"checkbox\" checked><label for=\"sk-estimator-id-1\" class=\"sk-toggleable__label sk-toggleable__label-arrow\">PolynomialFeatures</label><div class=\"sk-toggleable__content\"><pre>PolynomialFeatures(include_bias=False)</pre></div></div></div></div></div>"
      ],
      "text/plain": [
       "PolynomialFeatures(include_bias=False)"
      ]
     },
     "execution_count": 13,
     "metadata": {},
     "output_type": "execute_result"
    }
   ],
   "source": [
    "polynomial_converter.fit(X)"
   ]
  },
  {
   "cell_type": "code",
   "execution_count": 14,
   "id": "f4f76770-c3c7-4959-9697-39571978bfb3",
   "metadata": {
    "tags": []
   },
   "outputs": [
    {
     "data": {
      "text/plain": [
       "array([[ 230.1 ,   37.8 ,   69.2 , ..., 1428.84, 2615.76, 4788.64],\n",
       "       [  44.5 ,   39.3 ,   45.1 , ..., 1544.49, 1772.43, 2034.01],\n",
       "       [  17.2 ,   45.9 ,   69.3 , ..., 2106.81, 3180.87, 4802.49],\n",
       "       ...,\n",
       "       [ 177.  ,    9.3 ,    6.4 , ...,   86.49,   59.52,   40.96],\n",
       "       [ 283.6 ,   42.  ,   66.2 , ..., 1764.  , 2780.4 , 4382.44],\n",
       "       [ 232.1 ,    8.6 ,    8.7 , ...,   73.96,   74.82,   75.69]])"
      ]
     },
     "execution_count": 14,
     "metadata": {},
     "output_type": "execute_result"
    }
   ],
   "source": [
    "polynomial_converter.transform(X)"
   ]
  },
  {
   "cell_type": "code",
   "execution_count": 15,
   "id": "77b2bf3f-23a8-4696-ab3b-debc7eb3c146",
   "metadata": {},
   "outputs": [
    {
     "data": {
      "text/plain": [
       "(200, 9)"
      ]
     },
     "execution_count": 15,
     "metadata": {},
     "output_type": "execute_result"
    }
   ],
   "source": [
    "polynomial_converter.transform(X).shape"
   ]
  },
  {
   "cell_type": "code",
   "execution_count": 16,
   "id": "d2a4faf1-5048-48c7-9982-999c6d9e5891",
   "metadata": {},
   "outputs": [],
   "source": [
    "# see, it transformed (added our required terms) the data"
   ]
  },
  {
   "cell_type": "code",
   "execution_count": 17,
   "id": "bac410e5-0e91-48d5-83f7-7b5dcda164f6",
   "metadata": {},
   "outputs": [],
   "source": [
    "poly_features = polynomial_converter.transform(X)"
   ]
  },
  {
   "cell_type": "code",
   "execution_count": 18,
   "id": "b2d7e7b5-ce76-4e5f-95ac-f98c000720e7",
   "metadata": {},
   "outputs": [
    {
     "data": {
      "text/plain": [
       "TV           230.1\n",
       "radio         37.8\n",
       "newspaper     69.2\n",
       "Name: 0, dtype: float64"
      ]
     },
     "execution_count": 18,
     "metadata": {},
     "output_type": "execute_result"
    }
   ],
   "source": [
    "X.iloc[0]"
   ]
  },
  {
   "cell_type": "code",
   "execution_count": 19,
   "id": "83d3b3d7-a3e9-4d09-b46b-30ac17034eba",
   "metadata": {},
   "outputs": [
    {
     "data": {
      "text/plain": [
       "array([2.301000e+02, 3.780000e+01, 6.920000e+01, 5.294601e+04,\n",
       "       8.697780e+03, 1.592292e+04, 1.428840e+03, 2.615760e+03,\n",
       "       4.788640e+03])"
      ]
     },
     "execution_count": 19,
     "metadata": {},
     "output_type": "execute_result"
    }
   ],
   "source": [
    "poly_features[0]"
   ]
  },
  {
   "cell_type": "markdown",
   "id": "1be4e899-ec84-42da-af10-bfbc8e04f3f6",
   "metadata": {},
   "source": [
    "## see the first three terms are actually the original terms, it also has three interaction terms and three square terms"
   ]
  },
  {
   "cell_type": "markdown",
   "id": "924dc57a-84f3-4cc3-a72b-214d5cda2130",
   "metadata": {},
   "source": [
    "# remeber these are not in order but u can calculate and verify that infact all these terms are present"
   ]
  },
  {
   "cell_type": "markdown",
   "id": "fad4eb3d-a5a6-4279-9f07-50ef929dbc98",
   "metadata": {},
   "source": [
    "## we can do fit and transform in a single step using, .fit_transform()"
   ]
  },
  {
   "cell_type": "markdown",
   "id": "cb707449-394e-4dac-b21c-2609dddfba89",
   "metadata": {},
   "source": [
    "# hence now we can use lin reg on this poly feat data, which is essentially polynomial reg"
   ]
  },
  {
   "cell_type": "code",
   "execution_count": 20,
   "id": "7775ace2-9825-4076-8376-7202e2e11428",
   "metadata": {},
   "outputs": [
    {
     "data": {
      "text/plain": [
       "(200, 9)"
      ]
     },
     "execution_count": 20,
     "metadata": {},
     "output_type": "execute_result"
    }
   ],
   "source": [
    "poly_features.shape"
   ]
  },
  {
   "cell_type": "code",
   "execution_count": 21,
   "id": "dc55087d-ef5d-4399-9787-a98d3e76385d",
   "metadata": {},
   "outputs": [],
   "source": [
    "from sklearn.model_selection import train_test_split"
   ]
  },
  {
   "cell_type": "code",
   "execution_count": 22,
   "id": "f201c98e-052c-49c0-ab4a-8a5aa7b90354",
   "metadata": {},
   "outputs": [],
   "source": [
    "X_train, X_test, y_train, y_test = train_test_split(poly_features, y, test_size=0.3, random_state=101)\n",
    "\n",
    "\n",
    "# remeber now our data is poly_features not X. also same test size and random state, so we can compare with our previous lin reg model"
   ]
  },
  {
   "cell_type": "code",
   "execution_count": 23,
   "id": "7f7457ea-68ea-4da4-a622-d1e4e163897f",
   "metadata": {},
   "outputs": [],
   "source": [
    "from sklearn.linear_model import LinearRegression"
   ]
  },
  {
   "cell_type": "code",
   "execution_count": 24,
   "id": "ac4615cd-4b62-4412-98f5-d27f95f9bdfb",
   "metadata": {},
   "outputs": [],
   "source": [
    "model = LinearRegression()"
   ]
  },
  {
   "cell_type": "code",
   "execution_count": 25,
   "id": "fc3f51ab-f3b3-457f-94cf-0ec3d3d56529",
   "metadata": {},
   "outputs": [
    {
     "data": {
      "text/html": [
       "<style>#sk-container-id-2 {color: black;background-color: white;}#sk-container-id-2 pre{padding: 0;}#sk-container-id-2 div.sk-toggleable {background-color: white;}#sk-container-id-2 label.sk-toggleable__label {cursor: pointer;display: block;width: 100%;margin-bottom: 0;padding: 0.3em;box-sizing: border-box;text-align: center;}#sk-container-id-2 label.sk-toggleable__label-arrow:before {content: \"▸\";float: left;margin-right: 0.25em;color: #696969;}#sk-container-id-2 label.sk-toggleable__label-arrow:hover:before {color: black;}#sk-container-id-2 div.sk-estimator:hover label.sk-toggleable__label-arrow:before {color: black;}#sk-container-id-2 div.sk-toggleable__content {max-height: 0;max-width: 0;overflow: hidden;text-align: left;background-color: #f0f8ff;}#sk-container-id-2 div.sk-toggleable__content pre {margin: 0.2em;color: black;border-radius: 0.25em;background-color: #f0f8ff;}#sk-container-id-2 input.sk-toggleable__control:checked~div.sk-toggleable__content {max-height: 200px;max-width: 100%;overflow: auto;}#sk-container-id-2 input.sk-toggleable__control:checked~label.sk-toggleable__label-arrow:before {content: \"▾\";}#sk-container-id-2 div.sk-estimator input.sk-toggleable__control:checked~label.sk-toggleable__label {background-color: #d4ebff;}#sk-container-id-2 div.sk-label input.sk-toggleable__control:checked~label.sk-toggleable__label {background-color: #d4ebff;}#sk-container-id-2 input.sk-hidden--visually {border: 0;clip: rect(1px 1px 1px 1px);clip: rect(1px, 1px, 1px, 1px);height: 1px;margin: -1px;overflow: hidden;padding: 0;position: absolute;width: 1px;}#sk-container-id-2 div.sk-estimator {font-family: monospace;background-color: #f0f8ff;border: 1px dotted black;border-radius: 0.25em;box-sizing: border-box;margin-bottom: 0.5em;}#sk-container-id-2 div.sk-estimator:hover {background-color: #d4ebff;}#sk-container-id-2 div.sk-parallel-item::after {content: \"\";width: 100%;border-bottom: 1px solid gray;flex-grow: 1;}#sk-container-id-2 div.sk-label:hover label.sk-toggleable__label {background-color: #d4ebff;}#sk-container-id-2 div.sk-serial::before {content: \"\";position: absolute;border-left: 1px solid gray;box-sizing: border-box;top: 0;bottom: 0;left: 50%;z-index: 0;}#sk-container-id-2 div.sk-serial {display: flex;flex-direction: column;align-items: center;background-color: white;padding-right: 0.2em;padding-left: 0.2em;position: relative;}#sk-container-id-2 div.sk-item {position: relative;z-index: 1;}#sk-container-id-2 div.sk-parallel {display: flex;align-items: stretch;justify-content: center;background-color: white;position: relative;}#sk-container-id-2 div.sk-item::before, #sk-container-id-2 div.sk-parallel-item::before {content: \"\";position: absolute;border-left: 1px solid gray;box-sizing: border-box;top: 0;bottom: 0;left: 50%;z-index: -1;}#sk-container-id-2 div.sk-parallel-item {display: flex;flex-direction: column;z-index: 1;position: relative;background-color: white;}#sk-container-id-2 div.sk-parallel-item:first-child::after {align-self: flex-end;width: 50%;}#sk-container-id-2 div.sk-parallel-item:last-child::after {align-self: flex-start;width: 50%;}#sk-container-id-2 div.sk-parallel-item:only-child::after {width: 0;}#sk-container-id-2 div.sk-dashed-wrapped {border: 1px dashed gray;margin: 0 0.4em 0.5em 0.4em;box-sizing: border-box;padding-bottom: 0.4em;background-color: white;}#sk-container-id-2 div.sk-label label {font-family: monospace;font-weight: bold;display: inline-block;line-height: 1.2em;}#sk-container-id-2 div.sk-label-container {text-align: center;}#sk-container-id-2 div.sk-container {/* jupyter's `normalize.less` sets `[hidden] { display: none; }` but bootstrap.min.css set `[hidden] { display: none !important; }` so we also need the `!important` here to be able to override the default hidden behavior on the sphinx rendered scikit-learn.org. See: https://github.com/scikit-learn/scikit-learn/issues/21755 */display: inline-block !important;position: relative;}#sk-container-id-2 div.sk-text-repr-fallback {display: none;}</style><div id=\"sk-container-id-2\" class=\"sk-top-container\"><div class=\"sk-text-repr-fallback\"><pre>LinearRegression()</pre><b>In a Jupyter environment, please rerun this cell to show the HTML representation or trust the notebook. <br />On GitHub, the HTML representation is unable to render, please try loading this page with nbviewer.org.</b></div><div class=\"sk-container\" hidden><div class=\"sk-item\"><div class=\"sk-estimator sk-toggleable\"><input class=\"sk-toggleable__control sk-hidden--visually\" id=\"sk-estimator-id-2\" type=\"checkbox\" checked><label for=\"sk-estimator-id-2\" class=\"sk-toggleable__label sk-toggleable__label-arrow\">LinearRegression</label><div class=\"sk-toggleable__content\"><pre>LinearRegression()</pre></div></div></div></div></div>"
      ],
      "text/plain": [
       "LinearRegression()"
      ]
     },
     "execution_count": 25,
     "metadata": {},
     "output_type": "execute_result"
    }
   ],
   "source": [
    "model.fit(X_train,y_train)"
   ]
  },
  {
   "cell_type": "code",
   "execution_count": 26,
   "id": "f871323b-b63b-4a49-b372-dba9654a7672",
   "metadata": {},
   "outputs": [],
   "source": [
    "# remember this is training on 9 features"
   ]
  },
  {
   "cell_type": "code",
   "execution_count": 27,
   "id": "e7b87cc4-d779-4179-9c14-3ac8b91b80e8",
   "metadata": {},
   "outputs": [],
   "source": [
    "test_predictions = model.predict(X_test)"
   ]
  },
  {
   "cell_type": "code",
   "execution_count": 28,
   "id": "80eb3de1-21ec-4a9f-9240-a704d067c739",
   "metadata": {},
   "outputs": [
    {
     "data": {
      "text/plain": [
       "array([ 5.17095811e-02,  1.30848864e-02,  1.20000085e-02, -1.10892474e-04,\n",
       "        1.14212673e-03, -5.24100082e-05,  3.34919737e-05,  1.46380310e-04,\n",
       "       -3.04715806e-05])"
      ]
     },
     "execution_count": 28,
     "metadata": {},
     "output_type": "execute_result"
    }
   ],
   "source": [
    "model.coef_"
   ]
  },
  {
   "cell_type": "code",
   "execution_count": 29,
   "id": "27b5d7ed-74e5-4f81-ada2-f7f9690cf36a",
   "metadata": {},
   "outputs": [],
   "source": [
    "# .predict also takes 9 values, so we have to pass X-test which has 9 values\n",
    "\n",
    "# verify this by using the .coef_ method"
   ]
  },
  {
   "cell_type": "code",
   "execution_count": 30,
   "id": "0a96273a-b8d7-4353-8dd9-881e00164e6f",
   "metadata": {},
   "outputs": [],
   "source": [
    "from sklearn.metrics import mean_absolute_error, mean_squared_error"
   ]
  },
  {
   "cell_type": "code",
   "execution_count": 31,
   "id": "67b502ce-a2a6-447d-8ef1-aa0c3d6007a7",
   "metadata": {},
   "outputs": [],
   "source": [
    "MAE = mean_absolute_error(y_test,test_predictions)"
   ]
  },
  {
   "cell_type": "code",
   "execution_count": 32,
   "id": "f5189058-83c1-4702-a139-1c38391a6e8a",
   "metadata": {},
   "outputs": [],
   "source": [
    "MSE = mean_squared_error(y_test,test_predictions)"
   ]
  },
  {
   "cell_type": "code",
   "execution_count": 33,
   "id": "1282d255-3f82-4b3d-a748-f57e20c6f695",
   "metadata": {},
   "outputs": [],
   "source": [
    "RMSE = np.sqrt(MSE)"
   ]
  },
  {
   "cell_type": "code",
   "execution_count": 34,
   "id": "7f8d99a9-d629-4219-94d4-c9058082e233",
   "metadata": {},
   "outputs": [
    {
     "data": {
      "text/plain": [
       "0.48967980448035603"
      ]
     },
     "execution_count": 34,
     "metadata": {},
     "output_type": "execute_result"
    }
   ],
   "source": [
    "MAE"
   ]
  },
  {
   "cell_type": "code",
   "execution_count": 35,
   "id": "f4cd59f7-6973-4aec-953b-363465479cf6",
   "metadata": {},
   "outputs": [
    {
     "data": {
      "text/plain": [
       "0.6646431757269019"
      ]
     },
     "execution_count": 35,
     "metadata": {},
     "output_type": "execute_result"
    }
   ],
   "source": [
    "RMSE"
   ]
  },
  {
   "cell_type": "markdown",
   "id": "dd50d2f3-1363-4d45-80e3-dabd622ec802",
   "metadata": {},
   "source": [
    "## previous lin reg model performance was MAE = 1.213 and RMSE = 1.516"
   ]
  },
  {
   "cell_type": "markdown",
   "id": "3a6403a7-ab76-4b4b-9759-8535bfbc5caf",
   "metadata": {},
   "source": [
    "## remeber to actually correctly predict both models we have tp perform exact same train test split ratio and same random state value\n",
    "## we actually did this in our split step"
   ]
  },
  {
   "cell_type": "code",
   "execution_count": 36,
   "id": "0be5e704-21e5-4ec0-b9ec-5598a45a19b5",
   "metadata": {},
   "outputs": [],
   "source": [
    "# Our poly feat model is performing better"
   ]
  },
  {
   "cell_type": "code",
   "execution_count": 37,
   "id": "81d1b136-0770-46c6-826d-570d1e239236",
   "metadata": {},
   "outputs": [
    {
     "data": {
      "text/plain": [
       "array([2.301000e+02, 3.780000e+01, 6.920000e+01, 5.294601e+04,\n",
       "       8.697780e+03, 1.592292e+04, 1.428840e+03, 2.615760e+03,\n",
       "       4.788640e+03])"
      ]
     },
     "execution_count": 37,
     "metadata": {},
     "output_type": "execute_result"
    }
   ],
   "source": [
    "poly_features[0]"
   ]
  },
  {
   "cell_type": "code",
   "execution_count": 38,
   "id": "46299de5-c694-454b-9a15-a4b80f96db32",
   "metadata": {},
   "outputs": [
    {
     "data": {
      "text/plain": [
       "array([ 5.17095811e-02,  1.30848864e-02,  1.20000085e-02, -1.10892474e-04,\n",
       "        1.14212673e-03, -5.24100082e-05,  3.34919737e-05,  1.46380310e-04,\n",
       "       -3.04715806e-05])"
      ]
     },
     "execution_count": 38,
     "metadata": {},
     "output_type": "execute_result"
    }
   ],
   "source": [
    "model.coef_   # beta coefficients for our model"
   ]
  },
  {
   "cell_type": "code",
   "execution_count": 39,
   "id": "a96b5fbd-64ae-4ea5-a1ee-a8cffcda8448",
   "metadata": {},
   "outputs": [],
   "source": [
    "# we can see that the last coeff is extremely small, which is newspaper squared (calculate to see it infact is that)"
   ]
  },
  {
   "cell_type": "markdown",
   "id": "5f1d605a-d4ef-47ee-ab55-37ba02f3f0af",
   "metadata": {},
   "source": [
    "## we can see this bcuz for prev model, we saw newspaper feat is not much important, hence square of it is also not\n",
    "## also we can see strong beta coeff values for interaction terms, i.e theres a lot of synergy in advertising methods"
   ]
  },
  {
   "cell_type": "markdown",
   "id": "4752f82c-c703-4e6c-93f2-0d5a2863e7c7",
   "metadata": {},
   "source": [
    "# underfit vs overfit"
   ]
  },
  {
   "cell_type": "code",
   "execution_count": 40,
   "id": "17b41077-8b9d-4e92-beb9-3e7677f6317c",
   "metadata": {},
   "outputs": [],
   "source": [
    "# we do this by using a loop, see notes for the 5 steps that we do"
   ]
  },
  {
   "cell_type": "code",
   "execution_count": 41,
   "id": "bc44e471-3bfe-4be7-b243-9cfc9d4645aa",
   "metadata": {},
   "outputs": [],
   "source": [
    "train_rmse_errors = []\n",
    "test_rmse_errors = []\n",
    "\n",
    "\n",
    "for degreeee in range(1,10):\n",
    "    \n",
    "    poly_converter = PolynomialFeatures(degree=degreeee, include_bias=False)\n",
    "    \n",
    "    poly_features = poly_converter.fit_transform(X)\n",
    "    \n",
    "    X_train, X_test, y_train, y_test = train_test_split(poly_features, y, test_size=0.3, random_state=101)\n",
    "    \n",
    "    model = LinearRegression()\n",
    "    model.fit(X_train,y_train)\n",
    "    \n",
    "    train_pred = model.predict(X_train)\n",
    "    test_pred = model.predict(X_test)\n",
    "    \n",
    "    train_rmse = np.sqrt(mean_squared_error(y_train,train_pred))\n",
    "    test_rmse = np.sqrt(mean_squared_error(y_test,test_pred))\n",
    "    \n",
    "    train_rmse_errors.append(train_rmse)\n",
    "    test_rmse_errors.append(test_rmse)\n"
   ]
  },
  {
   "cell_type": "code",
   "execution_count": 42,
   "id": "9a824ce6-f22f-41ac-be5f-b0697a439392",
   "metadata": {},
   "outputs": [
    {
     "data": {
      "text/plain": [
       "[1.734594124329376,\n",
       " 0.5879574085292231,\n",
       " 0.43393443569020657,\n",
       " 0.3517083688399348,\n",
       " 0.2509342962728227,\n",
       " 0.1994556133865361,\n",
       " 5.418481285535737,\n",
       " 0.1508621033579802,\n",
       " 0.17175170448632276]"
      ]
     },
     "execution_count": 42,
     "metadata": {},
     "output_type": "execute_result"
    }
   ],
   "source": [
    "train_rmse_errors"
   ]
  },
  {
   "cell_type": "markdown",
   "id": "557f105d-fe83-4760-b054-e451fe9ebf48",
   "metadata": {},
   "source": [
    "## see a spike in higher poly, which is a red flag that u shouldn't go for this high polynomial, even after that too if fell down a lot, so extreme overfitting is happening"
   ]
  },
  {
   "cell_type": "markdown",
   "id": "f1d694f7-093a-4eff-b990-5b3a0cb07700",
   "metadata": {},
   "source": [
    "## this is more apparent for test_rmse_errors"
   ]
  },
  {
   "cell_type": "code",
   "execution_count": 43,
   "id": "166c5992-5b63-4d5b-88f1-f8324b3b2404",
   "metadata": {},
   "outputs": [
    {
     "data": {
      "text/plain": [
       "[1.5161519375993877,\n",
       " 0.6646431757269019,\n",
       " 0.5803286825231682,\n",
       " 0.5077742656422755,\n",
       " 2.575808121294812,\n",
       " 4.263812349320766,\n",
       " 1383.4052620420694,\n",
       " 3733.4225752445113,\n",
       " 95489.26452707677]"
      ]
     },
     "execution_count": 43,
     "metadata": {},
     "output_type": "execute_result"
    }
   ],
   "source": [
    "test_rmse_errors"
   ]
  },
  {
   "cell_type": "code",
   "execution_count": 44,
   "id": "3e5ae994-3a27-4a87-99bf-e6ae49fb34bd",
   "metadata": {},
   "outputs": [
    {
     "data": {
      "text/plain": [
       "<function matplotlib.pyplot.legend(*args, **kwargs)>"
      ]
     },
     "execution_count": 44,
     "metadata": {},
     "output_type": "execute_result"
    },
    {
     "data": {
      "image/png": "[encoded data removed]",
      "text/plain": [
       "<Figure size 640x480 with 1 Axes>"
      ]
     },
     "metadata": {},
     "output_type": "display_data"
    }
   ],
   "source": [
    "plt.plot(range(1,6),train_rmse_errors[:5],label=\"TRAIN RMSE\")  # i.e we are only plotting first 5 data points\n",
    "plt.plot(range(1,6),test_rmse_errors[:5],label=\"TEST RMSE\")\n",
    "\n",
    "plt.ylabel(\"RMSE\")\n",
    "plt.xlabel(\"deg of poly\")\n",
    "plt.legend"
   ]
  },
  {
   "cell_type": "code",
   "execution_count": 45,
   "id": "510d3f3f-de32-4ea3-8f83-2c8be0a5291a",
   "metadata": {},
   "outputs": [],
   "source": [
    "# we only plotted first 5 data points bcuz if we plot all 10, we might not see where its shooting porperly \n",
    "# as higher deg rmse will be so big it just makes lower rmse not clearly visible, i.e"
   ]
  },
  {
   "cell_type": "code",
   "execution_count": 46,
   "id": "40f9cbdd-079e-43b0-8911-3feebec420a6",
   "metadata": {},
   "outputs": [
    {
     "data": {
      "text/plain": [
       "<function matplotlib.pyplot.legend(*args, **kwargs)>"
      ]
     },
     "execution_count": 46,
     "metadata": {},
     "output_type": "execute_result"
    },
    {
     "data": {
      "image/png": "[encoded data removed]",
      "text/plain": [
       "<Figure size 640x480 with 1 Axes>"
      ]
     },
     "metadata": {},
     "output_type": "display_data"
    }
   ],
   "source": [
    "plt.plot(range(1,10),train_rmse_errors,label=\"TRAIN RMSE\")  # i.e we are only plotting first 5 data points\n",
    "plt.plot(range(1,10),test_rmse_errors,label=\"TEST RMSE\")\n",
    "\n",
    "plt.ylabel(\"RMSE\")\n",
    "plt.xlabel(\"deg of poly\")\n",
    "plt.legend"
   ]
  },
  {
   "cell_type": "code",
   "execution_count": 47,
   "id": "bf368138-1534-42a6-afe4-4930ae21a308",
   "metadata": {},
   "outputs": [],
   "source": [
    "# see it appears as if its shooting at 6 or 7th degree\n",
    "\n"
   ]
  },
  {
   "cell_type": "code",
   "execution_count": 48,
   "id": "bbea74aa-6215-46c6-af58-1c371e1457a7",
   "metadata": {},
   "outputs": [
    {
     "data": {
      "text/plain": [
       "<function matplotlib.pyplot.legend(*args, **kwargs)>"
      ]
     },
     "execution_count": 48,
     "metadata": {},
     "output_type": "execute_result"
    },
    {
     "data": {
      "image/png": "[encoded data removed]",
      "text/plain": [
       "<Figure size 640x480 with 1 Axes>"
      ]
     },
     "metadata": {},
     "output_type": "display_data"
    }
   ],
   "source": [
    "plt.plot(range(1,6),train_rmse_errors[:5],label=\"TRAIN RMSE\")  # i.e we are only plotting first 5 data points\n",
    "plt.plot(range(1,6),test_rmse_errors[:5],label=\"TEST RMSE\")\n",
    "\n",
    "plt.ylabel(\"RMSE\")\n",
    "plt.xlabel(\"deg of poly\")\n",
    "plt.legend"
   ]
  },
  {
   "cell_type": "markdown",
   "id": "0699148b-fad1-4460-af46-d7dd450a5123",
   "metadata": {},
   "source": [
    "## what deg should we choose? 2,3 or 4?"
   ]
  },
  {
   "cell_type": "markdown",
   "id": "8c0be887-0802-45c2-b6d7-90e250775695",
   "metadata": {},
   "source": [
    "## this is where domain knowledge is needed and is it necesary that 4th degree model complexity is needed??\n",
    "## choosing 2nd degree or maybe 3rd degree is the way to go given the context of the way we are working "
   ]
  },
  {
   "cell_type": "markdown",
   "id": "d817d112-55fa-4081-9fa8-ce6031acf2c3",
   "metadata": {},
   "source": [
    "# polynomial model deployment"
   ]
  },
  {
   "cell_type": "code",
   "execution_count": 49,
   "id": "10e14b72",
   "metadata": {},
   "outputs": [],
   "source": [
    "# lets say we chode a third degree polynomial "
   ]
  },
  {
   "cell_type": "code",
   "execution_count": 50,
   "id": "75c166fc-61ad-44c7-a88a-1505db1d2a81",
   "metadata": {},
   "outputs": [],
   "source": [
    "final_poly_converter = PolynomialFeatures(degree=3, include_bias=False)"
   ]
  },
  {
   "cell_type": "code",
   "execution_count": 51,
   "id": "dfadc78a-9bce-4877-ae88-02468e660710",
   "metadata": {},
   "outputs": [],
   "source": [
    "final_model = LinearRegression()"
   ]
  },
  {
   "cell_type": "code",
   "execution_count": 52,
   "id": "ab06bc98-cc22-4779-a1a3-c9ffb02b6fca",
   "metadata": {},
   "outputs": [
    {
     "data": {
      "text/html": [
       "<style>#sk-container-id-3 {color: black;background-color: white;}#sk-container-id-3 pre{padding: 0;}#sk-container-id-3 div.sk-toggleable {background-color: white;}#sk-container-id-3 label.sk-toggleable__label {cursor: pointer;display: block;width: 100%;margin-bottom: 0;padding: 0.3em;box-sizing: border-box;text-align: center;}#sk-container-id-3 label.sk-toggleable__label-arrow:before {content: \"▸\";float: left;margin-right: 0.25em;color: #696969;}#sk-container-id-3 label.sk-toggleable__label-arrow:hover:before {color: black;}#sk-container-id-3 div.sk-estimator:hover label.sk-toggleable__label-arrow:before {color: black;}#sk-container-id-3 div.sk-toggleable__content {max-height: 0;max-width: 0;overflow: hidden;text-align: left;background-color: #f0f8ff;}#sk-container-id-3 div.sk-toggleable__content pre {margin: 0.2em;color: black;border-radius: 0.25em;background-color: #f0f8ff;}#sk-container-id-3 input.sk-toggleable__control:checked~div.sk-toggleable__content {max-height: 200px;max-width: 100%;overflow: auto;}#sk-container-id-3 input.sk-toggleable__control:checked~label.sk-toggleable__label-arrow:before {content: \"▾\";}#sk-container-id-3 div.sk-estimator input.sk-toggleable__control:checked~label.sk-toggleable__label {background-color: #d4ebff;}#sk-container-id-3 div.sk-label input.sk-toggleable__control:checked~label.sk-toggleable__label {background-color: #d4ebff;}#sk-container-id-3 input.sk-hidden--visually {border: 0;clip: rect(1px 1px 1px 1px);clip: rect(1px, 1px, 1px, 1px);height: 1px;margin: -1px;overflow: hidden;padding: 0;position: absolute;width: 1px;}#sk-container-id-3 div.sk-estimator {font-family: monospace;background-color: #f0f8ff;border: 1px dotted black;border-radius: 0.25em;box-sizing: border-box;margin-bottom: 0.5em;}#sk-container-id-3 div.sk-estimator:hover {background-color: #d4ebff;}#sk-container-id-3 div.sk-parallel-item::after {content: \"\";width: 100%;border-bottom: 1px solid gray;flex-grow: 1;}#sk-container-id-3 div.sk-label:hover label.sk-toggleable__label {background-color: #d4ebff;}#sk-container-id-3 div.sk-serial::before {content: \"\";position: absolute;border-left: 1px solid gray;box-sizing: border-box;top: 0;bottom: 0;left: 50%;z-index: 0;}#sk-container-id-3 div.sk-serial {display: flex;flex-direction: column;align-items: center;background-color: white;padding-right: 0.2em;padding-left: 0.2em;position: relative;}#sk-container-id-3 div.sk-item {position: relative;z-index: 1;}#sk-container-id-3 div.sk-parallel {display: flex;align-items: stretch;justify-content: center;background-color: white;position: relative;}#sk-container-id-3 div.sk-item::before, #sk-container-id-3 div.sk-parallel-item::before {content: \"\";position: absolute;border-left: 1px solid gray;box-sizing: border-box;top: 0;bottom: 0;left: 50%;z-index: -1;}#sk-container-id-3 div.sk-parallel-item {display: flex;flex-direction: column;z-index: 1;position: relative;background-color: white;}#sk-container-id-3 div.sk-parallel-item:first-child::after {align-self: flex-end;width: 50%;}#sk-container-id-3 div.sk-parallel-item:last-child::after {align-self: flex-start;width: 50%;}#sk-container-id-3 div.sk-parallel-item:only-child::after {width: 0;}#sk-container-id-3 div.sk-dashed-wrapped {border: 1px dashed gray;margin: 0 0.4em 0.5em 0.4em;box-sizing: border-box;padding-bottom: 0.4em;background-color: white;}#sk-container-id-3 div.sk-label label {font-family: monospace;font-weight: bold;display: inline-block;line-height: 1.2em;}#sk-container-id-3 div.sk-label-container {text-align: center;}#sk-container-id-3 div.sk-container {/* jupyter's `normalize.less` sets `[hidden] { display: none; }` but bootstrap.min.css set `[hidden] { display: none !important; }` so we also need the `!important` here to be able to override the default hidden behavior on the sphinx rendered scikit-learn.org. See: https://github.com/scikit-learn/scikit-learn/issues/21755 */display: inline-block !important;position: relative;}#sk-container-id-3 div.sk-text-repr-fallback {display: none;}</style><div id=\"sk-container-id-3\" class=\"sk-top-container\"><div class=\"sk-text-repr-fallback\"><pre>LinearRegression()</pre><b>In a Jupyter environment, please rerun this cell to show the HTML representation or trust the notebook. <br />On GitHub, the HTML representation is unable to render, please try loading this page with nbviewer.org.</b></div><div class=\"sk-container\" hidden><div class=\"sk-item\"><div class=\"sk-estimator sk-toggleable\"><input class=\"sk-toggleable__control sk-hidden--visually\" id=\"sk-estimator-id-3\" type=\"checkbox\" checked><label for=\"sk-estimator-id-3\" class=\"sk-toggleable__label sk-toggleable__label-arrow\">LinearRegression</label><div class=\"sk-toggleable__content\"><pre>LinearRegression()</pre></div></div></div></div></div>"
      ],
      "text/plain": [
       "LinearRegression()"
      ]
     },
     "execution_count": 52,
     "metadata": {},
     "output_type": "execute_result"
    }
   ],
   "source": [
    "full_converted_X = final_poly_converter.fit_transform(X)\n",
    "\n",
    "final_model.fit(full_converted_X,y)"
   ]
  },
  {
   "cell_type": "code",
   "execution_count": 53,
   "id": "856a18f3-41e8-4968-8e8a-f1e00ac6ff6d",
   "metadata": {},
   "outputs": [],
   "source": [
    "# i.e we want full_converted_X as our data"
   ]
  },
  {
   "cell_type": "code",
   "execution_count": 54,
   "id": "75b207ee-6219-484d-a422-049ef6b637de",
   "metadata": {},
   "outputs": [],
   "source": [
    "from joblib import dump,load"
   ]
  },
  {
   "cell_type": "markdown",
   "id": "302d73b0-4d51-4348-b1bf-18410837f0e3",
   "metadata": {},
   "source": [
    "## we want to save both model and the converter"
   ]
  },
  {
   "cell_type": "code",
   "execution_count": 56,
   "id": "fb9722fc-145d-4d7c-a8cd-151106bcccf3",
   "metadata": {},
   "outputs": [
    {
     "data": {
      "text/plain": [
       "['final_poly_model.joblib']"
      ]
     },
     "execution_count": 56,
     "metadata": {},
     "output_type": "execute_result"
    }
   ],
   "source": [
    "dump(final_model,\"final_poly_model.joblib\""
   ]
  },
  {
   "cell_type": "code",
   "execution_count": 57,
   "id": "030e109a-c434-41db-9c66-1080f2a9def2",
   "metadata": {},
   "outputs": [
    {
     "data": {
      "text/plain": [
       "['final_converter.joblib']"
      ]
     },
     "execution_count": 57,
     "metadata": {},
     "output_type": "execute_result"
    }
   ],
   "source": [
    "dump(final_poly_converter,\"final_converter.joblib\")"
   ]
  },
  {
   "cell_type": "markdown",
   "id": "3f946ff8-1d40-43a1-b78a-4df40bdba16a",
   "metadata": {},
   "source": [
    "### to use them again"
   ]
  },
  {
   "cell_type": "code",
   "execution_count": 58,
   "id": "e4cfa2fb-a278-4e8d-a87e-62599d47e967",
   "metadata": {},
   "outputs": [],
   "source": [
    "loaded_converter = load(\"final_converter.joblib\")"
   ]
  },
  {
   "cell_type": "code",
   "execution_count": 59,
   "id": "781f985a-555c-46b7-ae13-4de91c71555f",
   "metadata": {},
   "outputs": [],
   "source": [
    "loaded_model = load(\"final_poly_model.joblib\")"
   ]
  },
  {
   "cell_type": "code",
   "execution_count": 60,
   "id": "65d30e05-4d11-45f9-9978-05c3032fdd56",
   "metadata": {},
   "outputs": [],
   "source": [
    "# lets say data for new campaign\n",
    "\n",
    "campaign = [[149,22,12]]"
   ]
  },
  {
   "cell_type": "code",
   "execution_count": 61,
   "id": "c66ccb48-9340-4aff-b124-ac4ee91e60c9",
   "metadata": {},
   "outputs": [],
   "source": [
    "### we cant pass this data directly as pur model expects more features as its 3rd degrre poly.\n",
    "\n",
    "### remember for 2nd deg we had 9 features, here its 3rd so expects even more"
   ]
  },
  {
   "cell_type": "code",
   "execution_count": 62,
   "id": "f7ae1b6b-a2c9-4b77-bfb6-e88d91617eac",
   "metadata": {},
   "outputs": [
    {
     "data": {
      "text/plain": [
       "array([[1.490000e+02, 2.200000e+01, 1.200000e+01, 2.220100e+04,\n",
       "        3.278000e+03, 1.788000e+03, 4.840000e+02, 2.640000e+02,\n",
       "        1.440000e+02, 3.307949e+06, 4.884220e+05, 2.664120e+05,\n",
       "        7.211600e+04, 3.933600e+04, 2.145600e+04, 1.064800e+04,\n",
       "        5.808000e+03, 3.168000e+03, 1.728000e+03]])"
      ]
     },
     "execution_count": 62,
     "metadata": {},
     "output_type": "execute_result"
    }
   ],
   "source": [
    "loaded_converter.fit_transform(campaign)"
   ]
  },
  {
   "cell_type": "markdown",
   "id": "013b36ca-bfad-4de4-92d3-8b4a800df639",
   "metadata": {},
   "source": [
    "## this is why we need to dump/export the converter too\n",
    "\n",
    "### now we can pass into the model"
   ]
  },
  {
   "cell_type": "code",
   "execution_count": 64,
   "id": "81cf3154-ac06-4509-be38-5f1eef1e2530",
   "metadata": {},
   "outputs": [
    {
     "data": {
      "text/plain": [
       "(1, 19)"
      ]
     },
     "execution_count": 64,
     "metadata": {},
     "output_type": "execute_result"
    }
   ],
   "source": [
    "loaded_converter.fit_transform(campaign).shape"
   ]
  },
  {
   "cell_type": "markdown",
   "id": "e32ad5e4-d6dd-45fc-9ede-165d0fd1ea38",
   "metadata": {},
   "source": [
    "## see, our model actually expects 19 features, u can verify this "
   ]
  },
  {
   "cell_type": "code",
   "execution_count": 63,
   "id": "7b6a8a71-a29a-45c2-bea2-7a0d9cbe3310",
   "metadata": {},
   "outputs": [],
   "source": [
    "transformed_data = loaded_converter.fit_transform(campaign)"
   ]
  },
  {
   "cell_type": "code",
   "execution_count": 65,
   "id": "87657724-aae0-44a5-a203-5a2f4b0b2c66",
   "metadata": {},
   "outputs": [
    {
     "data": {
      "text/plain": [
       "array([14.64501014])"
      ]
     },
     "execution_count": 65,
     "metadata": {},
     "output_type": "execute_result"
    }
   ],
   "source": [
    "loaded_model.predict(transformed_data)"
   ]
  },
  {
   "cell_type": "markdown",
   "id": "7f262f45-094e-4d5b-b777-249ba7f20189",
   "metadata": {},
   "source": [
    "# regularization"
   ]
  },
  {
   "cell_type": "markdown",
   "id": "7bcd225e",
   "metadata": {},
   "source": [
    "# Feature scaling"
   ]
  },
  {
   "cell_type": "code",
   "execution_count": null,
   "id": "fb71c73f-fc47-4881-95d1-8c2f601ab44d",
   "metadata": {},
   "outputs": [],
   "source": []
  }
 ],
 "metadata": {
  "kernelspec": {
   "display_name": "bootcamp",
   "language": "python",
   "name": "python3"
  },
  "language_info": {
   "codemirror_mode": {
    "name": "ipython",
    "version": 3
   },
   "file_extension": ".py",
   "mimetype": "text/x-python",
   "name": "python",
   "nbconvert_exporter": "python",
   "pygments_lexer": "ipython3",
   "version": "3.11.0"
  }
 },
 "nbformat": 4,
 "nbformat_minor": 5
}
